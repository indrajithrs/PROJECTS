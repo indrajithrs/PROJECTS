{
 "cells": [
  {
   "cell_type": "markdown",
   "metadata": {
    "id": "47306z3ozY-T"
   },
   "source": [
    "## **Recommendation System**"
   ]
  },
  {
   "cell_type": "markdown",
   "metadata": {
    "id": "OBwjzeu3zwhd"
   },
   "source": [
    "E-commerce companies use recommendation systems to provide suggestions to the customers. They use item-item collaborative filtering, which scales to massive datasets and produces high quality recommendation systems in the real time. This project is a kind of an information filtering system which seeks to predict the \"rating\" or preferences which user is interested in.\n",
    "\n",
    "\n",
    "Attribute Information:\n",
    "\n",
    "● userId: Every user identified with a unique id\n",
    "\n",
    "● productId: Every product identified with a unique id\n",
    "\n",
    "● Rating: Rating of the corresponding product by the corresponding user\n",
    "\n",
    "● timestamp: Time of the rating (ignore this column for this exercise)\n"
   ]
  },
  {
   "cell_type": "code",
   "execution_count": null,
   "metadata": {},
   "outputs": [],
   "source": []
  },
  {
   "cell_type": "code",
   "execution_count": 1,
   "metadata": {},
   "outputs": [],
   "source": [
    "#pip install \"numpy<2.0\" scikit-learn"
   ]
  },
  {
   "cell_type": "code",
   "execution_count": 2,
   "metadata": {
    "id": "RXFtymC35fyI"
   },
   "outputs": [],
   "source": [
    "# import libraries\n",
    "import pandas as pd\n",
    "import numpy as np\n",
    "import matplotlib.pyplot as plt\n",
    "import seaborn as sns\n",
    "import warnings\n",
    "warnings.filterwarnings('ignore')"
   ]
  },
  {
   "cell_type": "code",
   "execution_count": 3,
   "metadata": {
    "colab": {
     "base_uri": "https://localhost:8080/",
     "height": 206
    },
    "id": "oqRmHlvaHcD9",
    "outputId": "053ea9fd-4cd3-4d4b-8c4a-be3085945e63"
   },
   "outputs": [
    {
     "data": {
      "text/html": [
       "<div>\n",
       "<style scoped>\n",
       "    .dataframe tbody tr th:only-of-type {\n",
       "        vertical-align: middle;\n",
       "    }\n",
       "\n",
       "    .dataframe tbody tr th {\n",
       "        vertical-align: top;\n",
       "    }\n",
       "\n",
       "    .dataframe thead th {\n",
       "        text-align: right;\n",
       "    }\n",
       "</style>\n",
       "<table border=\"1\" class=\"dataframe\">\n",
       "  <thead>\n",
       "    <tr style=\"text-align: right;\">\n",
       "      <th></th>\n",
       "      <th>AKM1MP6P0OYPR</th>\n",
       "      <th>0132793040</th>\n",
       "      <th>5.0</th>\n",
       "      <th>1365811200</th>\n",
       "    </tr>\n",
       "  </thead>\n",
       "  <tbody>\n",
       "    <tr>\n",
       "      <th>7824476</th>\n",
       "      <td>A2YZI3C9MOHC0L</td>\n",
       "      <td>BT008UKTMW</td>\n",
       "      <td>5.0</td>\n",
       "      <td>1396569600</td>\n",
       "    </tr>\n",
       "    <tr>\n",
       "      <th>7824477</th>\n",
       "      <td>A322MDK0M89RHN</td>\n",
       "      <td>BT008UKTMW</td>\n",
       "      <td>5.0</td>\n",
       "      <td>1313366400</td>\n",
       "    </tr>\n",
       "    <tr>\n",
       "      <th>7824478</th>\n",
       "      <td>A1MH90R0ADMIK0</td>\n",
       "      <td>BT008UKTMW</td>\n",
       "      <td>4.0</td>\n",
       "      <td>1404172800</td>\n",
       "    </tr>\n",
       "    <tr>\n",
       "      <th>7824479</th>\n",
       "      <td>A10M2KEFPEQDHN</td>\n",
       "      <td>BT008UKTMW</td>\n",
       "      <td>4.0</td>\n",
       "      <td>1297555200</td>\n",
       "    </tr>\n",
       "    <tr>\n",
       "      <th>7824480</th>\n",
       "      <td>A2G81TMIOIDEQQ</td>\n",
       "      <td>BT008V9J9U</td>\n",
       "      <td>5.0</td>\n",
       "      <td>1312675200</td>\n",
       "    </tr>\n",
       "  </tbody>\n",
       "</table>\n",
       "</div>"
      ],
      "text/plain": [
       "          AKM1MP6P0OYPR  0132793040  5.0  1365811200\n",
       "7824476  A2YZI3C9MOHC0L  BT008UKTMW  5.0  1396569600\n",
       "7824477  A322MDK0M89RHN  BT008UKTMW  5.0  1313366400\n",
       "7824478  A1MH90R0ADMIK0  BT008UKTMW  4.0  1404172800\n",
       "7824479  A10M2KEFPEQDHN  BT008UKTMW  4.0  1297555200\n",
       "7824480  A2G81TMIOIDEQQ  BT008V9J9U  5.0  1312675200"
      ]
     },
     "execution_count": 3,
     "metadata": {},
     "output_type": "execute_result"
    }
   ],
   "source": [
    "# reading dataset\n",
    "ratings=pd.read_csv('ratings.csv')\n",
    "ratings.tail()"
   ]
  },
  {
   "cell_type": "markdown",
   "metadata": {
    "id": "wmjJI9tDzUU5"
   },
   "source": [
    "## EDA"
   ]
  },
  {
   "cell_type": "code",
   "execution_count": 4,
   "metadata": {
    "colab": {
     "base_uri": "https://localhost:8080/"
    },
    "id": "xXwvltIaIqnA",
    "outputId": "2336a3b8-7916-4be6-c9cd-61e4474e49f7"
   },
   "outputs": [
    {
     "data": {
      "text/plain": [
       "(7824481, 4)"
      ]
     },
     "execution_count": 4,
     "metadata": {},
     "output_type": "execute_result"
    }
   ],
   "source": [
    "ratings.shape"
   ]
  },
  {
   "cell_type": "code",
   "execution_count": 5,
   "metadata": {
    "colab": {
     "base_uri": "https://localhost:8080/"
    },
    "id": "UGm5sQOVIsyX",
    "outputId": "8c671f8f-c3d9-494c-9846-48f689ced18c"
   },
   "outputs": [
    {
     "name": "stdout",
     "output_type": "stream",
     "text": [
      "           Userid   Productid  Rating   Timestamp\n",
      "0  A2CX7LUOHB2NDG  0321732944     5.0  1341100800\n",
      "1  A2NWSAGRHCP8N5  0439886341     1.0  1367193600\n",
      "2  A2WNBOD3WNDNKT  0439886341     3.0  1374451200\n",
      "3  A1GI0U4ZRJA8WN  0439886341     1.0  1334707200\n",
      "4  A1QGNMC6O1VW39  0511189877     5.0  1397433600\n"
     ]
    }
   ],
   "source": [
    "# changing the column names to 'AKM1MP6P0OYPR into Userid' , '0132793040 into Productid' ,'5.0\tinto  Rating' and  '1365811200 into Timestamp'\n",
    "\n",
    "ratings.rename(columns={'AKM1MP6P0OYPR': 'Userid', '0132793040': 'Productid', '5.0': 'Rating', '1365811200': 'Timestamp'}, inplace=True)\n",
    "print(ratings.head())\n"
   ]
  },
  {
   "cell_type": "code",
   "execution_count": 6,
   "metadata": {
    "colab": {
     "base_uri": "https://localhost:8080/",
     "height": 206
    },
    "id": "nlyCgGhSHBEC",
    "outputId": "42375da4-cfcb-4bad-85d7-5cf6fabeb933"
   },
   "outputs": [
    {
     "data": {
      "text/html": [
       "<div>\n",
       "<style scoped>\n",
       "    .dataframe tbody tr th:only-of-type {\n",
       "        vertical-align: middle;\n",
       "    }\n",
       "\n",
       "    .dataframe tbody tr th {\n",
       "        vertical-align: top;\n",
       "    }\n",
       "\n",
       "    .dataframe thead th {\n",
       "        text-align: right;\n",
       "    }\n",
       "</style>\n",
       "<table border=\"1\" class=\"dataframe\">\n",
       "  <thead>\n",
       "    <tr style=\"text-align: right;\">\n",
       "      <th></th>\n",
       "      <th>Userid</th>\n",
       "      <th>Productid</th>\n",
       "      <th>Rating</th>\n",
       "      <th>Timestamp</th>\n",
       "    </tr>\n",
       "  </thead>\n",
       "  <tbody>\n",
       "    <tr>\n",
       "      <th>0</th>\n",
       "      <td>A2CX7LUOHB2NDG</td>\n",
       "      <td>0321732944</td>\n",
       "      <td>5.0</td>\n",
       "      <td>1341100800</td>\n",
       "    </tr>\n",
       "    <tr>\n",
       "      <th>1</th>\n",
       "      <td>A2NWSAGRHCP8N5</td>\n",
       "      <td>0439886341</td>\n",
       "      <td>1.0</td>\n",
       "      <td>1367193600</td>\n",
       "    </tr>\n",
       "    <tr>\n",
       "      <th>2</th>\n",
       "      <td>A2WNBOD3WNDNKT</td>\n",
       "      <td>0439886341</td>\n",
       "      <td>3.0</td>\n",
       "      <td>1374451200</td>\n",
       "    </tr>\n",
       "    <tr>\n",
       "      <th>3</th>\n",
       "      <td>A1GI0U4ZRJA8WN</td>\n",
       "      <td>0439886341</td>\n",
       "      <td>1.0</td>\n",
       "      <td>1334707200</td>\n",
       "    </tr>\n",
       "    <tr>\n",
       "      <th>4</th>\n",
       "      <td>A1QGNMC6O1VW39</td>\n",
       "      <td>0511189877</td>\n",
       "      <td>5.0</td>\n",
       "      <td>1397433600</td>\n",
       "    </tr>\n",
       "  </tbody>\n",
       "</table>\n",
       "</div>"
      ],
      "text/plain": [
       "           Userid   Productid  Rating   Timestamp\n",
       "0  A2CX7LUOHB2NDG  0321732944     5.0  1341100800\n",
       "1  A2NWSAGRHCP8N5  0439886341     1.0  1367193600\n",
       "2  A2WNBOD3WNDNKT  0439886341     3.0  1374451200\n",
       "3  A1GI0U4ZRJA8WN  0439886341     1.0  1334707200\n",
       "4  A1QGNMC6O1VW39  0511189877     5.0  1397433600"
      ]
     },
     "execution_count": 6,
     "metadata": {},
     "output_type": "execute_result"
    }
   ],
   "source": [
    "# Copying the data to another DataFrame\n",
    "df = ratings.copy()\n",
    "df.head()"
   ]
  },
  {
   "cell_type": "code",
   "execution_count": 7,
   "metadata": {
    "colab": {
     "base_uri": "https://localhost:8080/"
    },
    "id": "84fuLQ-hHxun",
    "outputId": "8df3cb91-be86-4b76-bd9d-27d86cd130a7"
   },
   "outputs": [
    {
     "data": {
      "text/plain": [
       "(7824481, 4)"
      ]
     },
     "execution_count": 7,
     "metadata": {},
     "output_type": "execute_result"
    }
   ],
   "source": [
    "df.shape"
   ]
  },
  {
   "cell_type": "markdown",
   "metadata": {
    "id": "MlSOZnjK0n3D"
   },
   "source": [
    "As the dataset is very large and has 7,824,481 observations, it is not computationally possible to build a model using this. Moreover, many users have only rated a few products and also some products are rated by very few users. Hence, we can reduce the dataset by considering certain logical assumptions.\n",
    "\n",
    "Here, we will be taking users who have given at least 50 ratings, and the products that have at least 5 ratings, as when we shop online we prefer to have some number of ratings of a product."
   ]
  },
  {
   "cell_type": "code",
   "execution_count": 8,
   "metadata": {
    "id": "HIsrsn1RHCws"
   },
   "outputs": [],
   "source": [
    "# Get the column containing the users\n",
    "users = df.Userid\n",
    "\n",
    "# Create a dictionary from users to their number of ratings\n",
    "ratings_count = dict()\n",
    "\n",
    "for user in users:\n",
    "\n",
    "    # If we already have the user, just add 1 to their rating count\n",
    "    if user in ratings_count:\n",
    "        ratings_count[user] += 1\n",
    "\n",
    "    # Otherwise, set their rating count to 1\n",
    "    else:\n",
    "        ratings_count[user] = 1\n"
   ]
  },
  {
   "cell_type": "code",
   "execution_count": 9,
   "metadata": {
    "id": "xK6ZD3A7HCs0"
   },
   "outputs": [],
   "source": [
    "# users to have at least 50 ratings to be considered\n",
    "RATINGS_CUTOFF = 50\n",
    "\n",
    "remove_users = []\n",
    "\n",
    "for user, num_ratings in ratings_count.items():\n",
    "    if num_ratings < RATINGS_CUTOFF:\n",
    "        remove_users.append(user)\n",
    "\n",
    "df = df.loc[ ~ df.Userid.isin(remove_users)]"
   ]
  },
  {
   "cell_type": "code",
   "execution_count": 10,
   "metadata": {
    "id": "TS4n6onlHCrb"
   },
   "outputs": [],
   "source": [
    "# Get the column containing the products\n",
    "prods = df.Productid\n",
    "\n",
    "# Create a dictionary from products to their number of ratings\n",
    "ratings_count = dict()\n",
    "\n",
    "for prod in prods:\n",
    "\n",
    "    # If we already have the product, just add 1 to its rating count\n",
    "    if prod in ratings_count:\n",
    "        ratings_count[prod] += 1\n",
    "\n",
    "    # Otherwise, set their rating count to 1\n",
    "    else:\n",
    "        ratings_count[prod] = 1"
   ]
  },
  {
   "cell_type": "code",
   "execution_count": 11,
   "metadata": {
    "id": "1BV10j6zHCoZ"
   },
   "outputs": [],
   "source": [
    "# item to have at least 5 ratings to be considered\n",
    "RATINGS_CUTOFF = 5\n",
    "\n",
    "remove_users = []\n",
    "\n",
    "for user, num_ratings in ratings_count.items():\n",
    "    if num_ratings < RATINGS_CUTOFF:\n",
    "        remove_users.append(user)\n",
    "\n",
    "df_final = df.loc[~ df.Productid.isin(remove_users)]"
   ]
  },
  {
   "cell_type": "code",
   "execution_count": 12,
   "metadata": {
    "colab": {
     "base_uri": "https://localhost:8080/",
     "height": 206
    },
    "id": "CqKkjr8QHCmd",
    "outputId": "0723a04d-aed0-443d-9beb-cd140f4ede5d"
   },
   "outputs": [
    {
     "data": {
      "text/html": [
       "<div>\n",
       "<style scoped>\n",
       "    .dataframe tbody tr th:only-of-type {\n",
       "        vertical-align: middle;\n",
       "    }\n",
       "\n",
       "    .dataframe tbody tr th {\n",
       "        vertical-align: top;\n",
       "    }\n",
       "\n",
       "    .dataframe thead th {\n",
       "        text-align: right;\n",
       "    }\n",
       "</style>\n",
       "<table border=\"1\" class=\"dataframe\">\n",
       "  <thead>\n",
       "    <tr style=\"text-align: right;\">\n",
       "      <th></th>\n",
       "      <th>Userid</th>\n",
       "      <th>Productid</th>\n",
       "      <th>Rating</th>\n",
       "      <th>Timestamp</th>\n",
       "    </tr>\n",
       "  </thead>\n",
       "  <tbody>\n",
       "    <tr>\n",
       "      <th>1309</th>\n",
       "      <td>A3LDPF5FMB782Z</td>\n",
       "      <td>1400501466</td>\n",
       "      <td>5.0</td>\n",
       "      <td>1336003200</td>\n",
       "    </tr>\n",
       "    <tr>\n",
       "      <th>1321</th>\n",
       "      <td>A1A5KUIIIHFF4U</td>\n",
       "      <td>1400501466</td>\n",
       "      <td>1.0</td>\n",
       "      <td>1332547200</td>\n",
       "    </tr>\n",
       "    <tr>\n",
       "      <th>1334</th>\n",
       "      <td>A2XIOXRRYX0KZY</td>\n",
       "      <td>1400501466</td>\n",
       "      <td>3.0</td>\n",
       "      <td>1371686400</td>\n",
       "    </tr>\n",
       "    <tr>\n",
       "      <th>1450</th>\n",
       "      <td>AW3LX47IHPFRL</td>\n",
       "      <td>1400501466</td>\n",
       "      <td>5.0</td>\n",
       "      <td>1339804800</td>\n",
       "    </tr>\n",
       "    <tr>\n",
       "      <th>1455</th>\n",
       "      <td>A1E3OB6QMBKRYZ</td>\n",
       "      <td>1400501466</td>\n",
       "      <td>1.0</td>\n",
       "      <td>1350086400</td>\n",
       "    </tr>\n",
       "  </tbody>\n",
       "</table>\n",
       "</div>"
      ],
      "text/plain": [
       "              Userid   Productid  Rating   Timestamp\n",
       "1309  A3LDPF5FMB782Z  1400501466     5.0  1336003200\n",
       "1321  A1A5KUIIIHFF4U  1400501466     1.0  1332547200\n",
       "1334  A2XIOXRRYX0KZY  1400501466     3.0  1371686400\n",
       "1450   AW3LX47IHPFRL  1400501466     5.0  1339804800\n",
       "1455  A1E3OB6QMBKRYZ  1400501466     1.0  1350086400"
      ]
     },
     "execution_count": 12,
     "metadata": {},
     "output_type": "execute_result"
    }
   ],
   "source": [
    "# Print a few rows of the imported dataset\n",
    "df_final.head()"
   ]
  },
  {
   "cell_type": "code",
   "execution_count": 13,
   "metadata": {
    "colab": {
     "base_uri": "https://localhost:8080/"
    },
    "id": "yqhKZIfOHCkP",
    "outputId": "cb22c216-8f5f-4051-be8d-86a760029e52"
   },
   "outputs": [
    {
     "name": "stdout",
     "output_type": "stream",
     "text": [
      "<class 'pandas.core.frame.DataFrame'>\n",
      "Index: 65290 entries, 1309 to 7824426\n",
      "Data columns (total 4 columns):\n",
      " #   Column     Non-Null Count  Dtype  \n",
      "---  ------     --------------  -----  \n",
      " 0   Userid     65290 non-null  object \n",
      " 1   Productid  65290 non-null  object \n",
      " 2   Rating     65290 non-null  float64\n",
      " 3   Timestamp  65290 non-null  int64  \n",
      "dtypes: float64(1), int64(1), object(2)\n",
      "memory usage: 2.5+ MB\n"
     ]
    }
   ],
   "source": [
    "# Check info again.\n",
    "df_final.info()"
   ]
  },
  {
   "cell_type": "code",
   "execution_count": 14,
   "metadata": {
    "colab": {
     "base_uri": "https://localhost:8080/"
    },
    "id": "D7up0uNKHCiE",
    "outputId": "6cc64f5f-14a4-449f-9e83-e50381a98591"
   },
   "outputs": [
    {
     "data": {
      "text/plain": [
       "(65290, 4)"
      ]
     },
     "execution_count": 14,
     "metadata": {},
     "output_type": "execute_result"
    }
   ],
   "source": [
    "# Check the number of rows and columns\n",
    "df_final.shape"
   ]
  },
  {
   "cell_type": "code",
   "execution_count": 15,
   "metadata": {
    "id": "4qGpAYDiHCf8"
   },
   "outputs": [],
   "source": [
    "# save df_final as a csv filr\n",
    "\n",
    "df_final.to_csv('df_final.csv', index=False)\n"
   ]
  },
  {
   "cell_type": "code",
   "execution_count": 16,
   "metadata": {
    "colab": {
     "base_uri": "https://localhost:8080/"
    },
    "id": "KsJoyLQ0xOWp",
    "outputId": "aa807ae5-4e9d-4dd2-c64f-cd2c70e21358"
   },
   "outputs": [
    {
     "name": "stdout",
     "output_type": "stream",
     "text": [
      "1309   2012-05-03\n",
      "1321   2012-03-24\n",
      "1334   2013-06-20\n",
      "1450   2012-06-16\n",
      "1455   2012-10-13\n",
      "Name: Timestamp, dtype: datetime64[ns]\n"
     ]
    }
   ],
   "source": [
    "# Parse timestamp to readable datetime\n",
    "df_final['Timestamp'] = pd.to_datetime(df_final['Timestamp'], unit='s')\n",
    "\n",
    "# Check after parsing\n",
    "print(df_final['Timestamp'].head())"
   ]
  },
  {
   "cell_type": "code",
   "execution_count": 17,
   "metadata": {
    "id": "_Gki1t0BzIwA"
   },
   "outputs": [],
   "source": [
    "# Create useful time features\n",
    "df_final['year'] = df_final['Timestamp'].dt.year\n",
    "df_final['month'] = df_final['Timestamp'].dt.month\n",
    "df_final['day'] = df_final['Timestamp'].dt.day\n",
    "df_final['weekday'] = df_final['Timestamp'].dt.day_name()"
   ]
  },
  {
   "cell_type": "code",
   "execution_count": 18,
   "metadata": {
    "colab": {
     "base_uri": "https://localhost:8080/",
     "height": 206
    },
    "id": "MdCKuZs3xmM0",
    "outputId": "699b051e-c530-4f13-cdf1-f7ffdeb705f4"
   },
   "outputs": [
    {
     "data": {
      "text/html": [
       "<div>\n",
       "<style scoped>\n",
       "    .dataframe tbody tr th:only-of-type {\n",
       "        vertical-align: middle;\n",
       "    }\n",
       "\n",
       "    .dataframe tbody tr th {\n",
       "        vertical-align: top;\n",
       "    }\n",
       "\n",
       "    .dataframe thead th {\n",
       "        text-align: right;\n",
       "    }\n",
       "</style>\n",
       "<table border=\"1\" class=\"dataframe\">\n",
       "  <thead>\n",
       "    <tr style=\"text-align: right;\">\n",
       "      <th></th>\n",
       "      <th>Userid</th>\n",
       "      <th>Productid</th>\n",
       "      <th>Rating</th>\n",
       "      <th>Timestamp</th>\n",
       "      <th>year</th>\n",
       "      <th>month</th>\n",
       "      <th>day</th>\n",
       "      <th>weekday</th>\n",
       "    </tr>\n",
       "  </thead>\n",
       "  <tbody>\n",
       "    <tr>\n",
       "      <th>1309</th>\n",
       "      <td>A3LDPF5FMB782Z</td>\n",
       "      <td>1400501466</td>\n",
       "      <td>5.0</td>\n",
       "      <td>2012-05-03</td>\n",
       "      <td>2012</td>\n",
       "      <td>5</td>\n",
       "      <td>3</td>\n",
       "      <td>Thursday</td>\n",
       "    </tr>\n",
       "    <tr>\n",
       "      <th>1321</th>\n",
       "      <td>A1A5KUIIIHFF4U</td>\n",
       "      <td>1400501466</td>\n",
       "      <td>1.0</td>\n",
       "      <td>2012-03-24</td>\n",
       "      <td>2012</td>\n",
       "      <td>3</td>\n",
       "      <td>24</td>\n",
       "      <td>Saturday</td>\n",
       "    </tr>\n",
       "    <tr>\n",
       "      <th>1334</th>\n",
       "      <td>A2XIOXRRYX0KZY</td>\n",
       "      <td>1400501466</td>\n",
       "      <td>3.0</td>\n",
       "      <td>2013-06-20</td>\n",
       "      <td>2013</td>\n",
       "      <td>6</td>\n",
       "      <td>20</td>\n",
       "      <td>Thursday</td>\n",
       "    </tr>\n",
       "    <tr>\n",
       "      <th>1450</th>\n",
       "      <td>AW3LX47IHPFRL</td>\n",
       "      <td>1400501466</td>\n",
       "      <td>5.0</td>\n",
       "      <td>2012-06-16</td>\n",
       "      <td>2012</td>\n",
       "      <td>6</td>\n",
       "      <td>16</td>\n",
       "      <td>Saturday</td>\n",
       "    </tr>\n",
       "    <tr>\n",
       "      <th>1455</th>\n",
       "      <td>A1E3OB6QMBKRYZ</td>\n",
       "      <td>1400501466</td>\n",
       "      <td>1.0</td>\n",
       "      <td>2012-10-13</td>\n",
       "      <td>2012</td>\n",
       "      <td>10</td>\n",
       "      <td>13</td>\n",
       "      <td>Saturday</td>\n",
       "    </tr>\n",
       "  </tbody>\n",
       "</table>\n",
       "</div>"
      ],
      "text/plain": [
       "              Userid   Productid  Rating  Timestamp  year  month  day  \\\n",
       "1309  A3LDPF5FMB782Z  1400501466     5.0 2012-05-03  2012      5    3   \n",
       "1321  A1A5KUIIIHFF4U  1400501466     1.0 2012-03-24  2012      3   24   \n",
       "1334  A2XIOXRRYX0KZY  1400501466     3.0 2013-06-20  2013      6   20   \n",
       "1450   AW3LX47IHPFRL  1400501466     5.0 2012-06-16  2012      6   16   \n",
       "1455  A1E3OB6QMBKRYZ  1400501466     1.0 2012-10-13  2012     10   13   \n",
       "\n",
       "       weekday  \n",
       "1309  Thursday  \n",
       "1321  Saturday  \n",
       "1334  Thursday  \n",
       "1450  Saturday  \n",
       "1455  Saturday  "
      ]
     },
     "execution_count": 18,
     "metadata": {},
     "output_type": "execute_result"
    }
   ],
   "source": [
    "df_final.head()"
   ]
  },
  {
   "cell_type": "code",
   "execution_count": 19,
   "metadata": {
    "colab": {
     "base_uri": "https://localhost:8080/"
    },
    "id": "FySBGMpeHCdp",
    "outputId": "58bce0c2-51bb-4688-f122-8cb08c3095b4"
   },
   "outputs": [
    {
     "name": "stdout",
     "output_type": "stream",
     "text": [
      "\n",
      "Missing Values:\n",
      "Userid       0\n",
      "Productid    0\n",
      "Rating       0\n",
      "Timestamp    0\n",
      "year         0\n",
      "month        0\n",
      "day          0\n",
      "weekday      0\n",
      "dtype: int64\n"
     ]
    }
   ],
   "source": [
    "# Missing values\n",
    "print(\"\\nMissing Values:\")\n",
    "print(df_final.isnull().sum())"
   ]
  },
  {
   "cell_type": "code",
   "execution_count": 20,
   "metadata": {
    "colab": {
     "base_uri": "https://localhost:8080/"
    },
    "id": "FVJvdRNc1w_1",
    "outputId": "af876e08-b937-4f55-f8e7-b2277ea0d4fe"
   },
   "outputs": [
    {
     "data": {
      "text/plain": [
       "0"
      ]
     },
     "execution_count": 20,
     "metadata": {},
     "output_type": "execute_result"
    }
   ],
   "source": [
    "#Checking for Duplicate values\n",
    "df_final.duplicated().sum()"
   ]
  },
  {
   "cell_type": "code",
   "execution_count": 21,
   "metadata": {
    "colab": {
     "base_uri": "https://localhost:8080/"
    },
    "id": "YFD_F79gywr2",
    "outputId": "46a90d1b-1895-45dd-c3bf-f9426f10fa85"
   },
   "outputs": [
    {
     "name": "stdout",
     "output_type": "stream",
     "text": [
      "\n",
      "Basic Statistics:\n",
      "             Rating                      Timestamp          year  \\\n",
      "count  65290.000000                          65290  65290.000000   \n",
      "mean       4.294808  2012-04-03 06:55:05.008423936   2011.758692   \n",
      "min        1.000000            2000-04-25 00:00:00   2000.000000   \n",
      "25%        4.000000            2011-03-31 00:00:00   2011.000000   \n",
      "50%        5.000000            2012-11-06 00:00:00   2012.000000   \n",
      "75%        5.000000            2013-09-10 00:00:00   2013.000000   \n",
      "max        5.000000            2014-07-23 00:00:00   2014.000000   \n",
      "std        0.988915                            NaN      1.954957   \n",
      "\n",
      "              month           day  \n",
      "count  65290.000000  65290.000000  \n",
      "mean       6.463333     16.404472  \n",
      "min        1.000000      1.000000  \n",
      "25%        3.000000      9.000000  \n",
      "50%        6.000000     17.000000  \n",
      "75%       10.000000     24.000000  \n",
      "max       12.000000     31.000000  \n",
      "std        3.539358      8.731464  \n"
     ]
    }
   ],
   "source": [
    "# Basic statistics\n",
    "print(\"\\nBasic Statistics:\")\n",
    "print(df_final.describe())"
   ]
  },
  {
   "cell_type": "code",
   "execution_count": 22,
   "metadata": {
    "colab": {
     "base_uri": "https://localhost:8080/",
     "height": 410
    },
    "id": "rul8ntrgHCbZ",
    "outputId": "980c9cf2-e8dd-46cf-ee3e-95e307b4a5d4"
   },
   "outputs": [
    {
     "data": {
      "image/png": "[encoded data removed]",
      "text/plain": [
       "<Figure size 600x400 with 1 Axes>"
      ]
     },
     "metadata": {},
     "output_type": "display_data"
    }
   ],
   "source": [
    "# Distribution of Ratings\n",
    "plt.figure(figsize=(6,4))\n",
    "sns.countplot(data=df_final, x='Rating', palette='viridis')\n",
    "plt.title('Distribution of Ratings')\n",
    "plt.xlabel('Rating')\n",
    "plt.ylabel('Count')\n",
    "plt.show()\n",
    "\n"
   ]
  },
  {
   "cell_type": "code",
   "execution_count": 23,
   "metadata": {
    "colab": {
     "base_uri": "https://localhost:8080/",
     "height": 508
    },
    "id": "e50DTB9sxxUW",
    "outputId": "beef6f23-1e9e-41de-e119-94ac4255dcba"
   },
   "outputs": [
    {
     "data": {
      "image/png": "[encoded data removed]",
      "text/plain": [
       "<Figure size 1000x500 with 1 Axes>"
      ]
     },
     "metadata": {},
     "output_type": "display_data"
    }
   ],
   "source": [
    "#  Number of Ratings Over Time\n",
    "plt.figure(figsize=(10,5))\n",
    "df_final['year'].value_counts().sort_index().plot(kind='bar')\n",
    "plt.title('Number of Ratings by Year')\n",
    "plt.xlabel('Year')\n",
    "plt.ylabel('Number of Ratings')\n",
    "plt.show()"
   ]
  },
  {
   "cell_type": "code",
   "execution_count": 24,
   "metadata": {
    "colab": {
     "base_uri": "https://localhost:8080/",
     "height": 487
    },
    "id": "WbPzbmfHHCSC",
    "outputId": "91e750dc-6624-48dd-bccf-d70df52dea70"
   },
   "outputs": [
    {
     "data": {
      "image/png": "[encoded data removed]",
      "text/plain": [
       "<Figure size 800x500 with 1 Axes>"
      ]
     },
     "metadata": {},
     "output_type": "display_data"
    }
   ],
   "source": [
    "# Ratings per user\n",
    "user_ratings_count = df_final.groupby('Userid').size()\n",
    "plt.figure(figsize=(8,5))\n",
    "sns.histplot(user_ratings_count, bins=30, kde=False)\n",
    "plt.title('Number of Ratings per User')\n",
    "plt.xlabel('Number of Ratings')\n",
    "plt.ylabel('Number of Users')\n",
    "plt.show()"
   ]
  },
  {
   "cell_type": "code",
   "execution_count": 25,
   "metadata": {
    "colab": {
     "base_uri": "https://localhost:8080/",
     "height": 487
    },
    "id": "tmvwVBsYHCIh",
    "outputId": "6e76a942-7a06-4ba4-a03e-aa2b3c79b7e8"
   },
   "outputs": [
    {
     "data": {
      "image/png": "[encoded data removed]",
      "text/plain": [
       "<Figure size 800x500 with 1 Axes>"
      ]
     },
     "metadata": {},
     "output_type": "display_data"
    }
   ],
   "source": [
    "# Ratings per product\n",
    "item_ratings_count = df_final.groupby('Productid').size()\n",
    "plt.figure(figsize=(8,5))\n",
    "sns.histplot(item_ratings_count, bins=30, kde=False, color='orange')\n",
    "plt.title('Number of Ratings per Products')\n",
    "plt.xlabel('Number of Ratings')\n",
    "plt.ylabel('Number of Products')\n",
    "plt.show()"
   ]
  },
  {
   "cell_type": "code",
   "execution_count": 26,
   "metadata": {
    "colab": {
     "base_uri": "https://localhost:8080/",
     "height": 410
    },
    "id": "sdrz2WvYx3OH",
    "outputId": "1f0ca1d7-4167-426b-93b3-83ffd3b4832e"
   },
   "outputs": [
    {
     "data": {
      "image/png": "[encoded data removed]",
      "text/plain": [
       "<Figure size 600x400 with 1 Axes>"
      ]
     },
     "metadata": {},
     "output_type": "display_data"
    }
   ],
   "source": [
    "# 3.5 Users vs Number of Ratings\n",
    "user_counts = df_final['Userid'].value_counts()\n",
    "plt.figure(figsize=(6,4))\n",
    "sns.histplot(user_counts, bins=50)\n",
    "plt.title('Number of Ratings per User')\n",
    "plt.xlabel('Ratings per User')\n",
    "plt.ylabel('Frequency')\n",
    "plt.xlim(0, 500)\n",
    "plt.show()"
   ]
  },
  {
   "cell_type": "code",
   "execution_count": 27,
   "metadata": {
    "colab": {
     "base_uri": "https://localhost:8080/",
     "height": 407
    },
    "id": "ByoNwcnMLtd9",
    "outputId": "8137ad5f-90a5-4bd9-8762-56ba208ab80c"
   },
   "outputs": [
    {
     "data": {
      "image/png": "[encoded data removed]",
      "text/plain": [
       "<Figure size 1500x1200 with 4 Axes>"
      ]
     },
     "metadata": {},
     "output_type": "display_data"
    }
   ],
   "source": [
    "# boxplots of all numerical variables\n",
    "plt.figure(figsize=(15, 12))\n",
    "for i, col in enumerate(df_final.select_dtypes(include=np.number).columns):\n",
    "    plt.subplot(4, 3, i + 1)\n",
    "    sns.boxplot(y=df_final[col])\n",
    "    plt.title(col)\n",
    "plt.tight_layout()\n",
    "plt.show()"
   ]
  },
  {
   "cell_type": "code",
   "execution_count": 28,
   "metadata": {
    "colab": {
     "base_uri": "https://localhost:8080/",
     "height": 423
    },
    "id": "vZ6fwLbcL1Jm",
    "outputId": "0c552288-2e10-4f21-d1e8-7124c39f46eb"
   },
   "outputs": [
    {
     "data": {
      "text/html": [
       "<div>\n",
       "<style scoped>\n",
       "    .dataframe tbody tr th:only-of-type {\n",
       "        vertical-align: middle;\n",
       "    }\n",
       "\n",
       "    .dataframe tbody tr th {\n",
       "        vertical-align: top;\n",
       "    }\n",
       "\n",
       "    .dataframe thead th {\n",
       "        text-align: right;\n",
       "    }\n",
       "</style>\n",
       "<table border=\"1\" class=\"dataframe\">\n",
       "  <thead>\n",
       "    <tr style=\"text-align: right;\">\n",
       "      <th></th>\n",
       "      <th>Userid</th>\n",
       "      <th>Productid</th>\n",
       "      <th>Rating</th>\n",
       "      <th>Timestamp</th>\n",
       "      <th>year</th>\n",
       "      <th>month</th>\n",
       "      <th>day</th>\n",
       "      <th>weekday</th>\n",
       "    </tr>\n",
       "  </thead>\n",
       "  <tbody>\n",
       "    <tr>\n",
       "      <th>1309</th>\n",
       "      <td>A3LDPF5FMB782Z</td>\n",
       "      <td>1400501466</td>\n",
       "      <td>5.0</td>\n",
       "      <td>2012-05-03</td>\n",
       "      <td>2012</td>\n",
       "      <td>5</td>\n",
       "      <td>3</td>\n",
       "      <td>Thursday</td>\n",
       "    </tr>\n",
       "    <tr>\n",
       "      <th>1334</th>\n",
       "      <td>A2XIOXRRYX0KZY</td>\n",
       "      <td>1400501466</td>\n",
       "      <td>3.0</td>\n",
       "      <td>2013-06-20</td>\n",
       "      <td>2013</td>\n",
       "      <td>6</td>\n",
       "      <td>20</td>\n",
       "      <td>Thursday</td>\n",
       "    </tr>\n",
       "    <tr>\n",
       "      <th>1450</th>\n",
       "      <td>AW3LX47IHPFRL</td>\n",
       "      <td>1400501466</td>\n",
       "      <td>5.0</td>\n",
       "      <td>2012-06-16</td>\n",
       "      <td>2012</td>\n",
       "      <td>6</td>\n",
       "      <td>16</td>\n",
       "      <td>Saturday</td>\n",
       "    </tr>\n",
       "    <tr>\n",
       "      <th>1484</th>\n",
       "      <td>A19N3S7CBSU6O7</td>\n",
       "      <td>1400501466</td>\n",
       "      <td>5.0</td>\n",
       "      <td>2011-12-01</td>\n",
       "      <td>2011</td>\n",
       "      <td>12</td>\n",
       "      <td>1</td>\n",
       "      <td>Thursday</td>\n",
       "    </tr>\n",
       "    <tr>\n",
       "      <th>2081</th>\n",
       "      <td>A2ZR3YTMEEIIZ4</td>\n",
       "      <td>1400532655</td>\n",
       "      <td>5.0</td>\n",
       "      <td>2011-03-16</td>\n",
       "      <td>2011</td>\n",
       "      <td>3</td>\n",
       "      <td>16</td>\n",
       "      <td>Wednesday</td>\n",
       "    </tr>\n",
       "    <tr>\n",
       "      <th>...</th>\n",
       "      <td>...</td>\n",
       "      <td>...</td>\n",
       "      <td>...</td>\n",
       "      <td>...</td>\n",
       "      <td>...</td>\n",
       "      <td>...</td>\n",
       "      <td>...</td>\n",
       "      <td>...</td>\n",
       "    </tr>\n",
       "    <tr>\n",
       "      <th>7824422</th>\n",
       "      <td>A34BZM6S9L7QI4</td>\n",
       "      <td>B00LGQ6HL8</td>\n",
       "      <td>5.0</td>\n",
       "      <td>2014-07-17</td>\n",
       "      <td>2014</td>\n",
       "      <td>7</td>\n",
       "      <td>17</td>\n",
       "      <td>Thursday</td>\n",
       "    </tr>\n",
       "    <tr>\n",
       "      <th>7824423</th>\n",
       "      <td>A1G650TTTHEAL5</td>\n",
       "      <td>B00LGQ6HL8</td>\n",
       "      <td>5.0</td>\n",
       "      <td>2014-07-15</td>\n",
       "      <td>2014</td>\n",
       "      <td>7</td>\n",
       "      <td>15</td>\n",
       "      <td>Tuesday</td>\n",
       "    </tr>\n",
       "    <tr>\n",
       "      <th>7824424</th>\n",
       "      <td>A25C2M3QF9G7OQ</td>\n",
       "      <td>B00LGQ6HL8</td>\n",
       "      <td>5.0</td>\n",
       "      <td>2014-07-17</td>\n",
       "      <td>2014</td>\n",
       "      <td>7</td>\n",
       "      <td>17</td>\n",
       "      <td>Thursday</td>\n",
       "    </tr>\n",
       "    <tr>\n",
       "      <th>7824425</th>\n",
       "      <td>A1E1LEVQ9VQNK</td>\n",
       "      <td>B00LGQ6HL8</td>\n",
       "      <td>5.0</td>\n",
       "      <td>2014-07-18</td>\n",
       "      <td>2014</td>\n",
       "      <td>7</td>\n",
       "      <td>18</td>\n",
       "      <td>Friday</td>\n",
       "    </tr>\n",
       "    <tr>\n",
       "      <th>7824426</th>\n",
       "      <td>A2NYK9KWFMJV4Y</td>\n",
       "      <td>B00LGQ6HL8</td>\n",
       "      <td>5.0</td>\n",
       "      <td>2014-07-13</td>\n",
       "      <td>2014</td>\n",
       "      <td>7</td>\n",
       "      <td>13</td>\n",
       "      <td>Sunday</td>\n",
       "    </tr>\n",
       "  </tbody>\n",
       "</table>\n",
       "<p>60923 rows × 8 columns</p>\n",
       "</div>"
      ],
      "text/plain": [
       "                 Userid   Productid  Rating  Timestamp  year  month  day  \\\n",
       "1309     A3LDPF5FMB782Z  1400501466     5.0 2012-05-03  2012      5    3   \n",
       "1334     A2XIOXRRYX0KZY  1400501466     3.0 2013-06-20  2013      6   20   \n",
       "1450      AW3LX47IHPFRL  1400501466     5.0 2012-06-16  2012      6   16   \n",
       "1484     A19N3S7CBSU6O7  1400501466     5.0 2011-12-01  2011     12    1   \n",
       "2081     A2ZR3YTMEEIIZ4  1400532655     5.0 2011-03-16  2011      3   16   \n",
       "...                 ...         ...     ...        ...   ...    ...  ...   \n",
       "7824422  A34BZM6S9L7QI4  B00LGQ6HL8     5.0 2014-07-17  2014      7   17   \n",
       "7824423  A1G650TTTHEAL5  B00LGQ6HL8     5.0 2014-07-15  2014      7   15   \n",
       "7824424  A25C2M3QF9G7OQ  B00LGQ6HL8     5.0 2014-07-17  2014      7   17   \n",
       "7824425   A1E1LEVQ9VQNK  B00LGQ6HL8     5.0 2014-07-18  2014      7   18   \n",
       "7824426  A2NYK9KWFMJV4Y  B00LGQ6HL8     5.0 2014-07-13  2014      7   13   \n",
       "\n",
       "           weekday  \n",
       "1309      Thursday  \n",
       "1334      Thursday  \n",
       "1450      Saturday  \n",
       "1484      Thursday  \n",
       "2081     Wednesday  \n",
       "...            ...  \n",
       "7824422   Thursday  \n",
       "7824423    Tuesday  \n",
       "7824424   Thursday  \n",
       "7824425     Friday  \n",
       "7824426     Sunday  \n",
       "\n",
       "[60923 rows x 8 columns]"
      ]
     },
     "execution_count": 28,
     "metadata": {},
     "output_type": "execute_result"
    }
   ],
   "source": [
    "# remove the outliers from rating variable\n",
    "\n",
    "# Calculate Q1, Q3, and IQR for the 'Rating' column.\n",
    "Q1 = df_final['Rating'].quantile(0.25)\n",
    "Q3 = df_final['Rating'].quantile(0.75)\n",
    "IQR = Q3 - Q1\n",
    "\n",
    "# Define the upper and lower bounds for outliers.\n",
    "lower_bound = Q1 - 1.5 * IQR\n",
    "upper_bound = Q3 + 1.5 * IQR\n",
    "\n",
    "# Filter out outliers.\n",
    "df_final = df_final[~((df_final['Rating'] < lower_bound) | (df_final['Rating'] > upper_bound))]\n",
    "\n",
    "# Display the DataFrame without outliers.\n",
    "df_final\n"
   ]
  },
  {
   "cell_type": "code",
   "execution_count": 29,
   "metadata": {
    "colab": {
     "base_uri": "https://localhost:8080/",
     "height": 406
    },
    "id": "sp7PJgytMKU_",
    "outputId": "b0c32e44-8139-437f-cf31-ca7213d64b65"
   },
   "outputs": [
    {
     "data": {
      "image/png": "[encoded data removed]",
      "text/plain": [
       "<Figure size 1500x1200 with 4 Axes>"
      ]
     },
     "metadata": {},
     "output_type": "display_data"
    }
   ],
   "source": [
    "# boxplots of all numerical variables\n",
    "plt.figure(figsize=(15, 12))\n",
    "for i, col in enumerate(df_final.select_dtypes(include=np.number).columns):\n",
    "    plt.subplot(4, 3, i + 1)\n",
    "    sns.boxplot(y=df_final[col])\n",
    "    plt.title(col)\n",
    "plt.tight_layout()\n",
    "plt.show()"
   ]
  },
  {
   "cell_type": "code",
   "execution_count": 30,
   "metadata": {
    "colab": {
     "base_uri": "https://localhost:8080/"
    },
    "id": "rVvT-KO_AGZc",
    "outputId": "23446751-a30e-41da-8e02-7d0a9c27ff37"
   },
   "outputs": [
    {
     "name": "stdout",
     "output_type": "stream",
     "text": [
      "\n",
      "Top 10 Items by Average Rating:\n",
      "Productid\n",
      "B00LGQ6HL8    5.0\n",
      "B00B4QESVQ    5.0\n",
      "B004V3KCJG    5.0\n",
      "B001BTG3OQ    5.0\n",
      "B003CH1SJU    5.0\n",
      "B003CJTR8M    5.0\n",
      "B00FZ9SMVU    5.0\n",
      "B00081A2DQ    5.0\n",
      "B003CK10DG    5.0\n",
      "B00B1K6D5Y    5.0\n",
      "Name: Rating, dtype: float64\n"
     ]
    }
   ],
   "source": [
    "# Top 10 rated items\n",
    "top_rated_items = df_final.groupby('Productid')['Rating'].mean().sort_values(ascending=False).head(10)\n",
    "print(\"\\nTop 10 Items by Average Rating:\")\n",
    "print(top_rated_items)"
   ]
  },
  {
   "cell_type": "markdown",
   "metadata": {
    "id": "RMZJapg02ssM"
   },
   "source": [
    "### DATA PREPROCESSING"
   ]
  },
  {
   "cell_type": "code",
   "execution_count": 31,
   "metadata": {
    "id": "0AQbJvX5CJaw"
   },
   "outputs": [],
   "source": [
    "# Prepare Data for Clustering\n",
    "user_item_matrix = df_final.pivot_table(index='Userid', columns='Productid', values='Rating').fillna(0)"
   ]
  },
  {
   "cell_type": "code",
   "execution_count": 32,
   "metadata": {
    "colab": {
     "base_uri": "https://localhost:8080/",
     "height": 475
    },
    "id": "LLXRGKem24vl",
    "outputId": "40f7023f-3948-4df1-e0ec-80d181b4b6b4"
   },
   "outputs": [
    {
     "data": {
      "text/html": [
       "<div>\n",
       "<style scoped>\n",
       "    .dataframe tbody tr th:only-of-type {\n",
       "        vertical-align: middle;\n",
       "    }\n",
       "\n",
       "    .dataframe tbody tr th {\n",
       "        vertical-align: top;\n",
       "    }\n",
       "\n",
       "    .dataframe thead th {\n",
       "        text-align: right;\n",
       "    }\n",
       "</style>\n",
       "<table border=\"1\" class=\"dataframe\">\n",
       "  <thead>\n",
       "    <tr style=\"text-align: right;\">\n",
       "      <th>Productid</th>\n",
       "      <th>1400501466</th>\n",
       "      <th>1400532655</th>\n",
       "      <th>1400599997</th>\n",
       "      <th>9983891212</th>\n",
       "      <th>B00000DM9W</th>\n",
       "      <th>B00000J1V5</th>\n",
       "      <th>B00000JDF5</th>\n",
       "      <th>B00000JDF6</th>\n",
       "      <th>B00000K135</th>\n",
       "      <th>B00000K4KH</th>\n",
       "      <th>...</th>\n",
       "      <th>B00KNM763E</th>\n",
       "      <th>B00KONCDVM</th>\n",
       "      <th>B00KVNY2KA</th>\n",
       "      <th>B00KXAFYZS</th>\n",
       "      <th>B00KYMCJF8</th>\n",
       "      <th>B00L21HC7A</th>\n",
       "      <th>B00L2442H0</th>\n",
       "      <th>B00L26YDA4</th>\n",
       "      <th>B00L3YHF6O</th>\n",
       "      <th>B00LGQ6HL8</th>\n",
       "    </tr>\n",
       "    <tr>\n",
       "      <th>Userid</th>\n",
       "      <th></th>\n",
       "      <th></th>\n",
       "      <th></th>\n",
       "      <th></th>\n",
       "      <th></th>\n",
       "      <th></th>\n",
       "      <th></th>\n",
       "      <th></th>\n",
       "      <th></th>\n",
       "      <th></th>\n",
       "      <th></th>\n",
       "      <th></th>\n",
       "      <th></th>\n",
       "      <th></th>\n",
       "      <th></th>\n",
       "      <th></th>\n",
       "      <th></th>\n",
       "      <th></th>\n",
       "      <th></th>\n",
       "      <th></th>\n",
       "      <th></th>\n",
       "    </tr>\n",
       "  </thead>\n",
       "  <tbody>\n",
       "    <tr>\n",
       "      <th>A100UD67AHFODS</th>\n",
       "      <td>0.0</td>\n",
       "      <td>0.0</td>\n",
       "      <td>0.0</td>\n",
       "      <td>0.0</td>\n",
       "      <td>0.0</td>\n",
       "      <td>0.0</td>\n",
       "      <td>0.0</td>\n",
       "      <td>0.0</td>\n",
       "      <td>0.0</td>\n",
       "      <td>0.0</td>\n",
       "      <td>...</td>\n",
       "      <td>0.0</td>\n",
       "      <td>0.0</td>\n",
       "      <td>0.0</td>\n",
       "      <td>0.0</td>\n",
       "      <td>0.0</td>\n",
       "      <td>0.0</td>\n",
       "      <td>0.0</td>\n",
       "      <td>0.0</td>\n",
       "      <td>0.0</td>\n",
       "      <td>0.0</td>\n",
       "    </tr>\n",
       "    <tr>\n",
       "      <th>A100WO06OQR8BQ</th>\n",
       "      <td>0.0</td>\n",
       "      <td>0.0</td>\n",
       "      <td>0.0</td>\n",
       "      <td>0.0</td>\n",
       "      <td>0.0</td>\n",
       "      <td>0.0</td>\n",
       "      <td>0.0</td>\n",
       "      <td>0.0</td>\n",
       "      <td>0.0</td>\n",
       "      <td>0.0</td>\n",
       "      <td>...</td>\n",
       "      <td>0.0</td>\n",
       "      <td>0.0</td>\n",
       "      <td>0.0</td>\n",
       "      <td>0.0</td>\n",
       "      <td>0.0</td>\n",
       "      <td>0.0</td>\n",
       "      <td>0.0</td>\n",
       "      <td>0.0</td>\n",
       "      <td>0.0</td>\n",
       "      <td>0.0</td>\n",
       "    </tr>\n",
       "    <tr>\n",
       "      <th>A105S56ODHGJEK</th>\n",
       "      <td>0.0</td>\n",
       "      <td>0.0</td>\n",
       "      <td>0.0</td>\n",
       "      <td>0.0</td>\n",
       "      <td>0.0</td>\n",
       "      <td>0.0</td>\n",
       "      <td>0.0</td>\n",
       "      <td>0.0</td>\n",
       "      <td>0.0</td>\n",
       "      <td>0.0</td>\n",
       "      <td>...</td>\n",
       "      <td>0.0</td>\n",
       "      <td>0.0</td>\n",
       "      <td>0.0</td>\n",
       "      <td>0.0</td>\n",
       "      <td>0.0</td>\n",
       "      <td>0.0</td>\n",
       "      <td>0.0</td>\n",
       "      <td>0.0</td>\n",
       "      <td>0.0</td>\n",
       "      <td>0.0</td>\n",
       "    </tr>\n",
       "    <tr>\n",
       "      <th>A105TOJ6LTVMBG</th>\n",
       "      <td>0.0</td>\n",
       "      <td>0.0</td>\n",
       "      <td>0.0</td>\n",
       "      <td>0.0</td>\n",
       "      <td>0.0</td>\n",
       "      <td>4.0</td>\n",
       "      <td>0.0</td>\n",
       "      <td>0.0</td>\n",
       "      <td>0.0</td>\n",
       "      <td>0.0</td>\n",
       "      <td>...</td>\n",
       "      <td>0.0</td>\n",
       "      <td>0.0</td>\n",
       "      <td>0.0</td>\n",
       "      <td>0.0</td>\n",
       "      <td>0.0</td>\n",
       "      <td>0.0</td>\n",
       "      <td>0.0</td>\n",
       "      <td>0.0</td>\n",
       "      <td>0.0</td>\n",
       "      <td>0.0</td>\n",
       "    </tr>\n",
       "    <tr>\n",
       "      <th>A10AFVU66A79Y1</th>\n",
       "      <td>0.0</td>\n",
       "      <td>0.0</td>\n",
       "      <td>0.0</td>\n",
       "      <td>0.0</td>\n",
       "      <td>0.0</td>\n",
       "      <td>0.0</td>\n",
       "      <td>0.0</td>\n",
       "      <td>0.0</td>\n",
       "      <td>0.0</td>\n",
       "      <td>0.0</td>\n",
       "      <td>...</td>\n",
       "      <td>0.0</td>\n",
       "      <td>0.0</td>\n",
       "      <td>0.0</td>\n",
       "      <td>0.0</td>\n",
       "      <td>0.0</td>\n",
       "      <td>0.0</td>\n",
       "      <td>0.0</td>\n",
       "      <td>0.0</td>\n",
       "      <td>0.0</td>\n",
       "      <td>0.0</td>\n",
       "    </tr>\n",
       "    <tr>\n",
       "      <th>...</th>\n",
       "      <td>...</td>\n",
       "      <td>...</td>\n",
       "      <td>...</td>\n",
       "      <td>...</td>\n",
       "      <td>...</td>\n",
       "      <td>...</td>\n",
       "      <td>...</td>\n",
       "      <td>...</td>\n",
       "      <td>...</td>\n",
       "      <td>...</td>\n",
       "      <td>...</td>\n",
       "      <td>...</td>\n",
       "      <td>...</td>\n",
       "      <td>...</td>\n",
       "      <td>...</td>\n",
       "      <td>...</td>\n",
       "      <td>...</td>\n",
       "      <td>...</td>\n",
       "      <td>...</td>\n",
       "      <td>...</td>\n",
       "      <td>...</td>\n",
       "    </tr>\n",
       "    <tr>\n",
       "      <th>AZBXKUH4AIW3X</th>\n",
       "      <td>0.0</td>\n",
       "      <td>0.0</td>\n",
       "      <td>0.0</td>\n",
       "      <td>0.0</td>\n",
       "      <td>0.0</td>\n",
       "      <td>0.0</td>\n",
       "      <td>0.0</td>\n",
       "      <td>0.0</td>\n",
       "      <td>0.0</td>\n",
       "      <td>0.0</td>\n",
       "      <td>...</td>\n",
       "      <td>0.0</td>\n",
       "      <td>0.0</td>\n",
       "      <td>0.0</td>\n",
       "      <td>0.0</td>\n",
       "      <td>0.0</td>\n",
       "      <td>0.0</td>\n",
       "      <td>0.0</td>\n",
       "      <td>0.0</td>\n",
       "      <td>0.0</td>\n",
       "      <td>0.0</td>\n",
       "    </tr>\n",
       "    <tr>\n",
       "      <th>AZCE11PSTCH1L</th>\n",
       "      <td>0.0</td>\n",
       "      <td>0.0</td>\n",
       "      <td>0.0</td>\n",
       "      <td>0.0</td>\n",
       "      <td>0.0</td>\n",
       "      <td>0.0</td>\n",
       "      <td>0.0</td>\n",
       "      <td>0.0</td>\n",
       "      <td>0.0</td>\n",
       "      <td>0.0</td>\n",
       "      <td>...</td>\n",
       "      <td>0.0</td>\n",
       "      <td>0.0</td>\n",
       "      <td>0.0</td>\n",
       "      <td>0.0</td>\n",
       "      <td>0.0</td>\n",
       "      <td>0.0</td>\n",
       "      <td>0.0</td>\n",
       "      <td>0.0</td>\n",
       "      <td>0.0</td>\n",
       "      <td>0.0</td>\n",
       "    </tr>\n",
       "    <tr>\n",
       "      <th>AZMY6E8B52L2T</th>\n",
       "      <td>0.0</td>\n",
       "      <td>0.0</td>\n",
       "      <td>0.0</td>\n",
       "      <td>0.0</td>\n",
       "      <td>0.0</td>\n",
       "      <td>0.0</td>\n",
       "      <td>0.0</td>\n",
       "      <td>0.0</td>\n",
       "      <td>0.0</td>\n",
       "      <td>0.0</td>\n",
       "      <td>...</td>\n",
       "      <td>0.0</td>\n",
       "      <td>0.0</td>\n",
       "      <td>5.0</td>\n",
       "      <td>5.0</td>\n",
       "      <td>0.0</td>\n",
       "      <td>5.0</td>\n",
       "      <td>5.0</td>\n",
       "      <td>5.0</td>\n",
       "      <td>0.0</td>\n",
       "      <td>0.0</td>\n",
       "    </tr>\n",
       "    <tr>\n",
       "      <th>AZNUHQSHZHSUE</th>\n",
       "      <td>0.0</td>\n",
       "      <td>0.0</td>\n",
       "      <td>0.0</td>\n",
       "      <td>0.0</td>\n",
       "      <td>0.0</td>\n",
       "      <td>0.0</td>\n",
       "      <td>0.0</td>\n",
       "      <td>0.0</td>\n",
       "      <td>0.0</td>\n",
       "      <td>0.0</td>\n",
       "      <td>...</td>\n",
       "      <td>0.0</td>\n",
       "      <td>0.0</td>\n",
       "      <td>0.0</td>\n",
       "      <td>0.0</td>\n",
       "      <td>0.0</td>\n",
       "      <td>0.0</td>\n",
       "      <td>0.0</td>\n",
       "      <td>0.0</td>\n",
       "      <td>0.0</td>\n",
       "      <td>0.0</td>\n",
       "    </tr>\n",
       "    <tr>\n",
       "      <th>AZOK5STV85FBJ</th>\n",
       "      <td>0.0</td>\n",
       "      <td>0.0</td>\n",
       "      <td>0.0</td>\n",
       "      <td>0.0</td>\n",
       "      <td>0.0</td>\n",
       "      <td>0.0</td>\n",
       "      <td>0.0</td>\n",
       "      <td>0.0</td>\n",
       "      <td>0.0</td>\n",
       "      <td>0.0</td>\n",
       "      <td>...</td>\n",
       "      <td>0.0</td>\n",
       "      <td>0.0</td>\n",
       "      <td>0.0</td>\n",
       "      <td>0.0</td>\n",
       "      <td>0.0</td>\n",
       "      <td>0.0</td>\n",
       "      <td>0.0</td>\n",
       "      <td>0.0</td>\n",
       "      <td>0.0</td>\n",
       "      <td>0.0</td>\n",
       "    </tr>\n",
       "  </tbody>\n",
       "</table>\n",
       "<p>1539 rows × 5689 columns</p>\n",
       "</div>"
      ],
      "text/plain": [
       "Productid       1400501466  1400532655  1400599997  9983891212  B00000DM9W  \\\n",
       "Userid                                                                       \n",
       "A100UD67AHFODS         0.0         0.0         0.0         0.0         0.0   \n",
       "A100WO06OQR8BQ         0.0         0.0         0.0         0.0         0.0   \n",
       "A105S56ODHGJEK         0.0         0.0         0.0         0.0         0.0   \n",
       "A105TOJ6LTVMBG         0.0         0.0         0.0         0.0         0.0   \n",
       "A10AFVU66A79Y1         0.0         0.0         0.0         0.0         0.0   \n",
       "...                    ...         ...         ...         ...         ...   \n",
       "AZBXKUH4AIW3X          0.0         0.0         0.0         0.0         0.0   \n",
       "AZCE11PSTCH1L          0.0         0.0         0.0         0.0         0.0   \n",
       "AZMY6E8B52L2T          0.0         0.0         0.0         0.0         0.0   \n",
       "AZNUHQSHZHSUE          0.0         0.0         0.0         0.0         0.0   \n",
       "AZOK5STV85FBJ          0.0         0.0         0.0         0.0         0.0   \n",
       "\n",
       "Productid       B00000J1V5  B00000JDF5  B00000JDF6  B00000K135  B00000K4KH  \\\n",
       "Userid                                                                       \n",
       "A100UD67AHFODS         0.0         0.0         0.0         0.0         0.0   \n",
       "A100WO06OQR8BQ         0.0         0.0         0.0         0.0         0.0   \n",
       "A105S56ODHGJEK         0.0         0.0         0.0         0.0         0.0   \n",
       "A105TOJ6LTVMBG         4.0         0.0         0.0         0.0         0.0   \n",
       "A10AFVU66A79Y1         0.0         0.0         0.0         0.0         0.0   \n",
       "...                    ...         ...         ...         ...         ...   \n",
       "AZBXKUH4AIW3X          0.0         0.0         0.0         0.0         0.0   \n",
       "AZCE11PSTCH1L          0.0         0.0         0.0         0.0         0.0   \n",
       "AZMY6E8B52L2T          0.0         0.0         0.0         0.0         0.0   \n",
       "AZNUHQSHZHSUE          0.0         0.0         0.0         0.0         0.0   \n",
       "AZOK5STV85FBJ          0.0         0.0         0.0         0.0         0.0   \n",
       "\n",
       "Productid       ...  B00KNM763E  B00KONCDVM  B00KVNY2KA  B00KXAFYZS  \\\n",
       "Userid          ...                                                   \n",
       "A100UD67AHFODS  ...         0.0         0.0         0.0         0.0   \n",
       "A100WO06OQR8BQ  ...         0.0         0.0         0.0         0.0   \n",
       "A105S56ODHGJEK  ...         0.0         0.0         0.0         0.0   \n",
       "A105TOJ6LTVMBG  ...         0.0         0.0         0.0         0.0   \n",
       "A10AFVU66A79Y1  ...         0.0         0.0         0.0         0.0   \n",
       "...             ...         ...         ...         ...         ...   \n",
       "AZBXKUH4AIW3X   ...         0.0         0.0         0.0         0.0   \n",
       "AZCE11PSTCH1L   ...         0.0         0.0         0.0         0.0   \n",
       "AZMY6E8B52L2T   ...         0.0         0.0         5.0         5.0   \n",
       "AZNUHQSHZHSUE   ...         0.0         0.0         0.0         0.0   \n",
       "AZOK5STV85FBJ   ...         0.0         0.0         0.0         0.0   \n",
       "\n",
       "Productid       B00KYMCJF8  B00L21HC7A  B00L2442H0  B00L26YDA4  B00L3YHF6O  \\\n",
       "Userid                                                                       \n",
       "A100UD67AHFODS         0.0         0.0         0.0         0.0         0.0   \n",
       "A100WO06OQR8BQ         0.0         0.0         0.0         0.0         0.0   \n",
       "A105S56ODHGJEK         0.0         0.0         0.0         0.0         0.0   \n",
       "A105TOJ6LTVMBG         0.0         0.0         0.0         0.0         0.0   \n",
       "A10AFVU66A79Y1         0.0         0.0         0.0         0.0         0.0   \n",
       "...                    ...         ...         ...         ...         ...   \n",
       "AZBXKUH4AIW3X          0.0         0.0         0.0         0.0         0.0   \n",
       "AZCE11PSTCH1L          0.0         0.0         0.0         0.0         0.0   \n",
       "AZMY6E8B52L2T          0.0         5.0         5.0         5.0         0.0   \n",
       "AZNUHQSHZHSUE          0.0         0.0         0.0         0.0         0.0   \n",
       "AZOK5STV85FBJ          0.0         0.0         0.0         0.0         0.0   \n",
       "\n",
       "Productid       B00LGQ6HL8  \n",
       "Userid                      \n",
       "A100UD67AHFODS         0.0  \n",
       "A100WO06OQR8BQ         0.0  \n",
       "A105S56ODHGJEK         0.0  \n",
       "A105TOJ6LTVMBG         0.0  \n",
       "A10AFVU66A79Y1         0.0  \n",
       "...                    ...  \n",
       "AZBXKUH4AIW3X          0.0  \n",
       "AZCE11PSTCH1L          0.0  \n",
       "AZMY6E8B52L2T          0.0  \n",
       "AZNUHQSHZHSUE          0.0  \n",
       "AZOK5STV85FBJ          0.0  \n",
       "\n",
       "[1539 rows x 5689 columns]"
      ]
     },
     "execution_count": 32,
     "metadata": {},
     "output_type": "execute_result"
    }
   ],
   "source": [
    "user_item_matrix"
   ]
  },
  {
   "cell_type": "code",
   "execution_count": 33,
   "metadata": {
    "id": "2yMpjvADCJYq"
   },
   "outputs": [],
   "source": [
    "# Standardize the data\n",
    "from sklearn.preprocessing import StandardScaler\n",
    "scaler = StandardScaler()\n",
    "user_item_scaled = scaler.fit_transform(user_item_matrix)"
   ]
  },
  {
   "cell_type": "code",
   "execution_count": 34,
   "metadata": {},
   "outputs": [
    {
     "data": {
      "text/plain": [
       "array([[-0.05012547, -0.05616779, -0.05083631, ..., -0.09100811,\n",
       "        -0.09581403, -0.05709161],\n",
       "       [-0.05012547, -0.05616779, -0.05083631, ..., -0.09100811,\n",
       "        -0.09581403, -0.05709161],\n",
       "       [-0.05012547, -0.05616779, -0.05083631, ..., -0.09100811,\n",
       "        -0.09581403, -0.05709161],\n",
       "       ...,\n",
       "       [-0.05012547, -0.05616779, -0.05083631, ..., 12.19508669,\n",
       "        -0.09581403, -0.05709161],\n",
       "       [-0.05012547, -0.05616779, -0.05083631, ..., -0.09100811,\n",
       "        -0.09581403, -0.05709161],\n",
       "       [-0.05012547, -0.05616779, -0.05083631, ..., -0.09100811,\n",
       "        -0.09581403, -0.05709161]])"
      ]
     },
     "execution_count": 34,
     "metadata": {},
     "output_type": "execute_result"
    }
   ],
   "source": [
    "user_item_scaled"
   ]
  },
  {
   "cell_type": "markdown",
   "metadata": {
    "id": "SjELzbdx3HK3"
   },
   "source": [
    "### CLUSTERING MODELS"
   ]
  },
  {
   "cell_type": "code",
   "execution_count": 35,
   "metadata": {
    "id": "KGZ1jstlD7j3"
   },
   "outputs": [],
   "source": [
    "from scipy.cluster.hierarchy import linkage\n",
    "import scipy.cluster.hierarchy as sch"
   ]
  },
  {
   "cell_type": "code",
   "execution_count": 36,
   "metadata": {
    "id": "jYKQh2jTD-9D"
   },
   "outputs": [],
   "source": [
    "# Finding the Distance using Euclidean Distance with Complete (maximum) linkage\n",
    "z = linkage(user_item_scaled, method = \"complete\", metric = \"euclidean\")"
   ]
  },
  {
   "cell_type": "code",
   "execution_count": 37,
   "metadata": {
    "colab": {
     "base_uri": "https://localhost:8080/",
     "height": 570
    },
    "id": "tBYPGlurD_dw",
    "outputId": "9d10a770-0f62-46ad-b44b-5aa0017fef6c"
   },
   "outputs": [
    {
     "data": {
      "image/png": "[encoded data removed]",
      "text/plain": [
       "<Figure size 1500x800 with 1 Axes>"
      ]
     },
     "metadata": {},
     "output_type": "display_data"
    }
   ],
   "source": [
    "# Now we plot the dendogram\n",
    "plt.figure(figsize=(15, 8));plt.title('Hierarchical Clustering Dendrogram');plt.xlabel('Index');plt.ylabel('Distance')\n",
    "sch.dendrogram(z, leaf_rotation = 90,  leaf_font_size = 5 )\n",
    "plt.show()"
   ]
  },
  {
   "cell_type": "code",
   "execution_count": 38,
   "metadata": {
    "id": "8AuVIHU4CJW3"
   },
   "outputs": [],
   "source": [
    "#  Clustering Models & Silhouette Comparison\n",
    "\n",
    "from sklearn.cluster import AgglomerativeClustering\n",
    "from sklearn.cluster import KMeans\n",
    "from sklearn.cluster import DBSCAN\n",
    "from sklearn.metrics import silhouette_score\n",
    "silhouette_scores = {}"
   ]
  },
  {
   "cell_type": "code",
   "execution_count": 39,
   "metadata": {
    "id": "JlCYSKQnCJUD"
   },
   "outputs": [],
   "source": [
    "# Agglomerative Clustering (single linkage)\n",
    "agglo_s = AgglomerativeClustering(n_clusters=2,linkage = 'single')\n",
    "agglo_label_s = agglo_s.fit_predict(user_item_scaled)\n",
    "agglo_score_s = silhouette_score(user_item_scaled, agglo_label_s)\n",
    "silhouette_scores['Agglomerative_single (k=2)'] = agglo_score_s\n",
    "\n"
   ]
  },
  {
   "cell_type": "code",
   "execution_count": 40,
   "metadata": {
    "id": "kRpmv_ewENnC"
   },
   "outputs": [],
   "source": [
    "# Agglomerative Clustering (complete linkage)\n",
    "agglo_c = AgglomerativeClustering(n_clusters=2,linkage = 'complete')\n",
    "agglo_labels_c = agglo_c.fit_predict(user_item_scaled)\n",
    "agglo_score_c = silhouette_score(user_item_scaled, agglo_labels_c)\n",
    "silhouette_scores['Agglomerative_complete (k=2)'] = agglo_score_c"
   ]
  },
  {
   "cell_type": "code",
   "execution_count": 41,
   "metadata": {
    "id": "Em5ZDG0g5IsX"
   },
   "outputs": [],
   "source": [
    "# Agglomerative Clustering (average linkage)\n",
    "agglo_a = AgglomerativeClustering(n_clusters=2,linkage = 'average')\n",
    "agglo_labels_a = agglo_a.fit_predict(user_item_scaled)\n",
    "agglo_score_a = silhouette_score(user_item_scaled, agglo_labels_a)\n",
    "silhouette_scores['Agglomerative_average (k=2)'] = agglo_score_a"
   ]
  },
  {
   "cell_type": "code",
   "execution_count": 42,
   "metadata": {},
   "outputs": [
    {
     "name": "stdout",
     "output_type": "stream",
     "text": [
      "<class 'numpy.ndarray'>\n",
      "float64\n",
      "False\n"
     ]
    }
   ],
   "source": [
    "print(type(user_item_scaled))           # Should be <class 'numpy.ndarray'>\n",
    "print(user_item_scaled.dtype)           # Should be float32 or float64\n",
    "print(np.isnan(user_item_scaled).any()) "
   ]
  },
  {
   "cell_type": "code",
   "execution_count": 43,
   "metadata": {},
   "outputs": [],
   "source": [
    "#user_item_scaled = user_item_scaled.astype(float)\n",
    "#user_item_scaled = np.nan_to_num(user_item_scaled)"
   ]
  },
  {
   "cell_type": "code",
   "execution_count": 44,
   "metadata": {},
   "outputs": [],
   "source": [
    "#pip install --upgrade --force-reinstall scikit-learn joblib"
   ]
  },
  {
   "cell_type": "code",
   "execution_count": 45,
   "metadata": {
    "id": "SeaQ1m0fE1Lu"
   },
   "outputs": [],
   "source": [
    "# --- KMeans ---\n",
    "kmeans = KMeans(n_clusters=2, random_state=42,n_init=10)\n",
    "kmeans_labels = kmeans.fit_predict(user_item_scaled)\n",
    "kmeans_score = silhouette_score(user_item_scaled, kmeans_labels)\n",
    "silhouette_scores['KMeans (k=2)'] = kmeans_score"
   ]
  },
  {
   "cell_type": "code",
   "execution_count": 46,
   "metadata": {
    "colab": {
     "base_uri": "https://localhost:8080/"
    },
    "id": "J480VJdyKMlA",
    "outputId": "96a7facb-f63b-4298-f232-676e01eb0869"
   },
   "outputs": [
    {
     "name": "stdout",
     "output_type": "stream",
     "text": [
      "Silhouette scores: [0.2822493821979451, 0.33146683257946774, -0.022409183966007527, -0.011002669608941064, 0.21324564294860948, -0.08742378914753329, 0.07852809183177471, 0.050391124886591664, 0.07968168673984818]\n",
      "Best Silhouette score: 0.33 for n_clusters = 3\n"
     ]
    }
   ],
   "source": [
    "from sklearn.metrics import silhouette_score\n",
    "\n",
    "scores= []\n",
    "for i in range(2,11):\n",
    "    from sklearn.cluster import KMeans\n",
    "    cluster = KMeans(n_clusters=i, n_init=20)\n",
    "    # Store the cluster labels in a separate variable\n",
    "    cluster_labels = cluster.fit_predict(user_item_scaled)\n",
    "    # Calculate and append the silhouette score for the current cluster labels\n",
    "    scores.append(silhouette_score(user_item_scaled, cluster_labels))\n",
    "\n",
    "# Print the Silhouette score for each number of clusters\n",
    "print(\"Silhouette scores:\", scores)\n",
    "\n",
    "\n",
    "best_score = max(scores)\n",
    "best_n_clusters = scores.index(best_score) + 2  # Add 2 because range starts from 2\n",
    "print(f\"Best Silhouette score: {best_score:.2f} for n_clusters = {best_n_clusters}\")"
   ]
  },
  {
   "cell_type": "code",
   "execution_count": 47,
   "metadata": {
    "id": "2wP2qV9nCJRt"
   },
   "outputs": [],
   "source": [
    "# --- DBSCAN ---\n",
    "dbscan = DBSCAN(eps=1.5, min_samples=5)\n",
    "dbscan_labels = dbscan.fit_predict(user_item_scaled)\n",
    "if len(set(dbscan_labels)) > 1:\n",
    "    dbscan_score = silhouette_score(user_item_scaled, dbscan_labels)\n",
    "    silhouette_scores['DBSCAN'] = dbscan_score\n",
    "else:\n",
    "    silhouette_scores['DBSCAN'] = -1  # Means clustering was not meaningful\n",
    "\n"
   ]
  },
  {
   "cell_type": "code",
   "execution_count": 48,
   "metadata": {
    "colab": {
     "base_uri": "https://localhost:8080/"
    },
    "id": "3j4aB4MUCJPb",
    "outputId": "115f26db-7c62-4a8a-a1d9-f16f1a71eded"
   },
   "outputs": [
    {
     "name": "stdout",
     "output_type": "stream",
     "text": [
      "\n",
      "Silhouette Scores for Different Clustering Models:\n",
      "Agglomerative_single (k=2): 0.51\n",
      "Agglomerative_complete (k=2): 0.51\n",
      "Agglomerative_average (k=2): 0.51\n",
      "KMeans (k=2): 0.34\n",
      "DBSCAN: -1.00\n"
     ]
    }
   ],
   "source": [
    "# Show Silhouette Scores\n",
    "print(\"\\nSilhouette Scores for Different Clustering Models:\")\n",
    "for model_name, score in silhouette_scores.items():\n",
    "    print(f\"{model_name}: {round(score,2):.2f}\")"
   ]
  },
  {
   "cell_type": "code",
   "execution_count": 49,
   "metadata": {
    "colab": {
     "base_uri": "https://localhost:8080/",
     "height": 575
    },
    "id": "4IPTeANeCJNC",
    "outputId": "320b044b-55cc-48ec-9327-02977f7a8762"
   },
   "outputs": [
    {
     "data": {
      "image/png": "[encoded data removed]",
      "text/plain": [
       "<Figure size 800x500 with 1 Axes>"
      ]
     },
     "metadata": {},
     "output_type": "display_data"
    }
   ],
   "source": [
    "# Bar plot comparison\n",
    "plt.figure(figsize=(8,5))\n",
    "sns.barplot(x=list(silhouette_scores.keys()), y=list(silhouette_scores.values()), palette='magma')\n",
    "plt.title('Silhouette Score Comparison')\n",
    "plt.ylabel('Silhouette Score')\n",
    "plt.xticks(rotation=30)\n",
    "plt.show()\n",
    "\n"
   ]
  },
  {
   "cell_type": "code",
   "execution_count": 50,
   "metadata": {
    "colab": {
     "base_uri": "https://localhost:8080/"
    },
    "id": "lLqJh6UqCJIl",
    "outputId": "0a204330-a40c-4e47-9c8a-f01286851b29"
   },
   "outputs": [
    {
     "name": "stdout",
     "output_type": "stream",
     "text": [
      "\n",
      "✅ Best clustering model based on Silhouette Score: Agglomerative_single (k=2)\n"
     ]
    }
   ],
   "source": [
    "# Choose best model\n",
    "best_model_name = max(silhouette_scores, key=silhouette_scores.get)\n",
    "print(f\"\\n✅ Best clustering model based on Silhouette Score: {best_model_name}\")"
   ]
  },
  {
   "cell_type": "code",
   "execution_count": 51,
   "metadata": {
    "id": "7Qs7OuB3CJGN"
   },
   "outputs": [],
   "source": [
    "# Use the best model to assign clusters\n",
    "\n",
    "final_labels = agglo_label_s\n",
    "user_item_matrix['cluster'] = final_labels\n"
   ]
  },
  {
   "cell_type": "code",
   "execution_count": 52,
   "metadata": {
    "id": "VVDWN-ocCJDv"
   },
   "outputs": [],
   "source": [
    "\n",
    "# 6. Recommendation System Based on Clusters\n",
    "\n",
    "def recommend_items(Userid, user_item_matrix, Rating, top_n=5):\n",
    "    # Get user's cluster\n",
    "    cluster_label = user_item_matrix.loc[Userid, 'cluster']\n",
    "\n",
    "    # Find other users in same cluster\n",
    "    similar_users = user_item_matrix[user_item_matrix['cluster'] == cluster_label].index.tolist()\n",
    "\n",
    "    # Find items rated highly by similar users\n",
    "    similar_users_ratings = Rating[Rating['Userid'].isin(similar_users)]\n",
    "\n",
    "    # Average ratings for items\n",
    "    item_scores = similar_users_ratings.groupby('Productid')['Rating'].mean()\n",
    "\n",
    "    # Recommend top N items\n",
    "    recommended_items = item_scores.sort_values(ascending=False).head(top_n)\n",
    "\n",
    "    return recommended_items"
   ]
  },
  {
   "cell_type": "code",
   "execution_count": 53,
   "metadata": {
    "colab": {
     "base_uri": "https://localhost:8080/",
     "height": 206
    },
    "id": "YKihAsX16iBm",
    "outputId": "0cfe1415-d481-44b3-e20c-156c0379972d"
   },
   "outputs": [
    {
     "data": {
      "text/html": [
       "<div>\n",
       "<style scoped>\n",
       "    .dataframe tbody tr th:only-of-type {\n",
       "        vertical-align: middle;\n",
       "    }\n",
       "\n",
       "    .dataframe tbody tr th {\n",
       "        vertical-align: top;\n",
       "    }\n",
       "\n",
       "    .dataframe thead th {\n",
       "        text-align: right;\n",
       "    }\n",
       "</style>\n",
       "<table border=\"1\" class=\"dataframe\">\n",
       "  <thead>\n",
       "    <tr style=\"text-align: right;\">\n",
       "      <th></th>\n",
       "      <th>Userid</th>\n",
       "      <th>Productid</th>\n",
       "      <th>Rating</th>\n",
       "      <th>Timestamp</th>\n",
       "      <th>year</th>\n",
       "      <th>month</th>\n",
       "      <th>day</th>\n",
       "      <th>weekday</th>\n",
       "    </tr>\n",
       "  </thead>\n",
       "  <tbody>\n",
       "    <tr>\n",
       "      <th>1309</th>\n",
       "      <td>A3LDPF5FMB782Z</td>\n",
       "      <td>1400501466</td>\n",
       "      <td>5.0</td>\n",
       "      <td>2012-05-03</td>\n",
       "      <td>2012</td>\n",
       "      <td>5</td>\n",
       "      <td>3</td>\n",
       "      <td>Thursday</td>\n",
       "    </tr>\n",
       "    <tr>\n",
       "      <th>1334</th>\n",
       "      <td>A2XIOXRRYX0KZY</td>\n",
       "      <td>1400501466</td>\n",
       "      <td>3.0</td>\n",
       "      <td>2013-06-20</td>\n",
       "      <td>2013</td>\n",
       "      <td>6</td>\n",
       "      <td>20</td>\n",
       "      <td>Thursday</td>\n",
       "    </tr>\n",
       "    <tr>\n",
       "      <th>1450</th>\n",
       "      <td>AW3LX47IHPFRL</td>\n",
       "      <td>1400501466</td>\n",
       "      <td>5.0</td>\n",
       "      <td>2012-06-16</td>\n",
       "      <td>2012</td>\n",
       "      <td>6</td>\n",
       "      <td>16</td>\n",
       "      <td>Saturday</td>\n",
       "    </tr>\n",
       "    <tr>\n",
       "      <th>1484</th>\n",
       "      <td>A19N3S7CBSU6O7</td>\n",
       "      <td>1400501466</td>\n",
       "      <td>5.0</td>\n",
       "      <td>2011-12-01</td>\n",
       "      <td>2011</td>\n",
       "      <td>12</td>\n",
       "      <td>1</td>\n",
       "      <td>Thursday</td>\n",
       "    </tr>\n",
       "    <tr>\n",
       "      <th>2081</th>\n",
       "      <td>A2ZR3YTMEEIIZ4</td>\n",
       "      <td>1400532655</td>\n",
       "      <td>5.0</td>\n",
       "      <td>2011-03-16</td>\n",
       "      <td>2011</td>\n",
       "      <td>3</td>\n",
       "      <td>16</td>\n",
       "      <td>Wednesday</td>\n",
       "    </tr>\n",
       "  </tbody>\n",
       "</table>\n",
       "</div>"
      ],
      "text/plain": [
       "              Userid   Productid  Rating  Timestamp  year  month  day  \\\n",
       "1309  A3LDPF5FMB782Z  1400501466     5.0 2012-05-03  2012      5    3   \n",
       "1334  A2XIOXRRYX0KZY  1400501466     3.0 2013-06-20  2013      6   20   \n",
       "1450   AW3LX47IHPFRL  1400501466     5.0 2012-06-16  2012      6   16   \n",
       "1484  A19N3S7CBSU6O7  1400501466     5.0 2011-12-01  2011     12    1   \n",
       "2081  A2ZR3YTMEEIIZ4  1400532655     5.0 2011-03-16  2011      3   16   \n",
       "\n",
       "        weekday  \n",
       "1309   Thursday  \n",
       "1334   Thursday  \n",
       "1450   Saturday  \n",
       "1484   Thursday  \n",
       "2081  Wednesday  "
      ]
     },
     "execution_count": 53,
     "metadata": {},
     "output_type": "execute_result"
    }
   ],
   "source": [
    "df_final.head()"
   ]
  },
  {
   "cell_type": "code",
   "execution_count": 54,
   "metadata": {
    "colab": {
     "base_uri": "https://localhost:8080/"
    },
    "id": "gGrHUN6lCI83",
    "outputId": "6745a530-673f-4ee5-98aa-0ff76d0a5be4"
   },
   "outputs": [
    {
     "name": "stdout",
     "output_type": "stream",
     "text": [
      "\n",
      "Recommended Items for User A3LDPF5FMB782Z:\n",
      "Productid\n",
      "B00LGQ6HL8    5.0\n",
      "B001PS9UKW    5.0\n",
      "B001TDL34Y    5.0\n",
      "B00067TTY0    5.0\n",
      "B001RNOHDU    5.0\n",
      "B001RHJ60K    5.0\n",
      "B001RCTA8I    5.0\n",
      "B009APBY0G    5.0\n",
      "B001PS9E5I    5.0\n",
      "B00FW6T36Y    5.0\n",
      "Name: Rating, dtype: float64\n"
     ]
    }
   ],
   "source": [
    "# Example Recommendation\n",
    "Userid = 'A3LDPF5FMB782Z'  # Example user\n",
    "recommendations = recommend_items(Userid=Userid, user_item_matrix=user_item_matrix, Rating=df_final, top_n=10)\n",
    "\n",
    "print(f\"\\nRecommended Items for User {Userid}:\")\n",
    "print(recommendations)"
   ]
  },
  {
   "cell_type": "code",
   "execution_count": null,
   "metadata": {
    "id": "TYEQk1AvCI6k"
   },
   "outputs": [],
   "source": []
  },
  {
   "cell_type": "markdown",
   "metadata": {
    "id": "h9YBCQseKb6p"
   },
   "source": [
    "### Recommendation model"
   ]
  },
  {
   "cell_type": "code",
   "execution_count": 55,
   "metadata": {
    "colab": {
     "base_uri": "https://localhost:8080/",
     "height": 206
    },
    "id": "g03caz80Kj8B",
    "outputId": "23f6ab65-41e3-4906-85dd-8911b15d5a1d"
   },
   "outputs": [
    {
     "data": {
      "text/html": [
       "<div>\n",
       "<style scoped>\n",
       "    .dataframe tbody tr th:only-of-type {\n",
       "        vertical-align: middle;\n",
       "    }\n",
       "\n",
       "    .dataframe tbody tr th {\n",
       "        vertical-align: top;\n",
       "    }\n",
       "\n",
       "    .dataframe thead th {\n",
       "        text-align: right;\n",
       "    }\n",
       "</style>\n",
       "<table border=\"1\" class=\"dataframe\">\n",
       "  <thead>\n",
       "    <tr style=\"text-align: right;\">\n",
       "      <th></th>\n",
       "      <th>Userid</th>\n",
       "      <th>Productid</th>\n",
       "      <th>Rating</th>\n",
       "      <th>Timestamp</th>\n",
       "      <th>year</th>\n",
       "      <th>month</th>\n",
       "      <th>day</th>\n",
       "      <th>weekday</th>\n",
       "    </tr>\n",
       "  </thead>\n",
       "  <tbody>\n",
       "    <tr>\n",
       "      <th>1309</th>\n",
       "      <td>A3LDPF5FMB782Z</td>\n",
       "      <td>1400501466</td>\n",
       "      <td>5.0</td>\n",
       "      <td>2012-05-03</td>\n",
       "      <td>2012</td>\n",
       "      <td>5</td>\n",
       "      <td>3</td>\n",
       "      <td>Thursday</td>\n",
       "    </tr>\n",
       "    <tr>\n",
       "      <th>1334</th>\n",
       "      <td>A2XIOXRRYX0KZY</td>\n",
       "      <td>1400501466</td>\n",
       "      <td>3.0</td>\n",
       "      <td>2013-06-20</td>\n",
       "      <td>2013</td>\n",
       "      <td>6</td>\n",
       "      <td>20</td>\n",
       "      <td>Thursday</td>\n",
       "    </tr>\n",
       "    <tr>\n",
       "      <th>1450</th>\n",
       "      <td>AW3LX47IHPFRL</td>\n",
       "      <td>1400501466</td>\n",
       "      <td>5.0</td>\n",
       "      <td>2012-06-16</td>\n",
       "      <td>2012</td>\n",
       "      <td>6</td>\n",
       "      <td>16</td>\n",
       "      <td>Saturday</td>\n",
       "    </tr>\n",
       "    <tr>\n",
       "      <th>1484</th>\n",
       "      <td>A19N3S7CBSU6O7</td>\n",
       "      <td>1400501466</td>\n",
       "      <td>5.0</td>\n",
       "      <td>2011-12-01</td>\n",
       "      <td>2011</td>\n",
       "      <td>12</td>\n",
       "      <td>1</td>\n",
       "      <td>Thursday</td>\n",
       "    </tr>\n",
       "    <tr>\n",
       "      <th>2081</th>\n",
       "      <td>A2ZR3YTMEEIIZ4</td>\n",
       "      <td>1400532655</td>\n",
       "      <td>5.0</td>\n",
       "      <td>2011-03-16</td>\n",
       "      <td>2011</td>\n",
       "      <td>3</td>\n",
       "      <td>16</td>\n",
       "      <td>Wednesday</td>\n",
       "    </tr>\n",
       "  </tbody>\n",
       "</table>\n",
       "</div>"
      ],
      "text/plain": [
       "              Userid   Productid  Rating  Timestamp  year  month  day  \\\n",
       "1309  A3LDPF5FMB782Z  1400501466     5.0 2012-05-03  2012      5    3   \n",
       "1334  A2XIOXRRYX0KZY  1400501466     3.0 2013-06-20  2013      6   20   \n",
       "1450   AW3LX47IHPFRL  1400501466     5.0 2012-06-16  2012      6   16   \n",
       "1484  A19N3S7CBSU6O7  1400501466     5.0 2011-12-01  2011     12    1   \n",
       "2081  A2ZR3YTMEEIIZ4  1400532655     5.0 2011-03-16  2011      3   16   \n",
       "\n",
       "        weekday  \n",
       "1309   Thursday  \n",
       "1334   Thursday  \n",
       "1450   Saturday  \n",
       "1484   Thursday  \n",
       "2081  Wednesday  "
      ]
     },
     "execution_count": 55,
     "metadata": {},
     "output_type": "execute_result"
    }
   ],
   "source": [
    "df_final.head()"
   ]
  },
  {
   "cell_type": "code",
   "execution_count": 56,
   "metadata": {
    "colab": {
     "base_uri": "https://localhost:8080/"
    },
    "id": "pENYjImmKm8K",
    "outputId": "57376c1e-90ff-4b86-b307-64ba8398c4e4"
   },
   "outputs": [
    {
     "data": {
      "text/plain": [
       "(60923, 8)"
      ]
     },
     "execution_count": 56,
     "metadata": {},
     "output_type": "execute_result"
    }
   ],
   "source": [
    "df_final.shape"
   ]
  },
  {
   "cell_type": "code",
   "execution_count": 57,
   "metadata": {
    "colab": {
     "base_uri": "https://localhost:8080/",
     "height": 287
    },
    "id": "1uE7_xTACI2K",
    "outputId": "9e108150-ec29-4f2f-8a43-e65548e1ffef"
   },
   "outputs": [
    {
     "data": {
      "text/html": [
       "<div>\n",
       "<style scoped>\n",
       "    .dataframe tbody tr th:only-of-type {\n",
       "        vertical-align: middle;\n",
       "    }\n",
       "\n",
       "    .dataframe tbody tr th {\n",
       "        vertical-align: top;\n",
       "    }\n",
       "\n",
       "    .dataframe thead th {\n",
       "        text-align: right;\n",
       "    }\n",
       "</style>\n",
       "<table border=\"1\" class=\"dataframe\">\n",
       "  <thead>\n",
       "    <tr style=\"text-align: right;\">\n",
       "      <th>Productid</th>\n",
       "      <th>1400501466</th>\n",
       "      <th>1400532655</th>\n",
       "      <th>1400599997</th>\n",
       "      <th>9983891212</th>\n",
       "      <th>B00000DM9W</th>\n",
       "      <th>B00000J1V5</th>\n",
       "      <th>B00000JDF5</th>\n",
       "      <th>B00000JDF6</th>\n",
       "      <th>B00000K135</th>\n",
       "      <th>B00000K4KH</th>\n",
       "      <th>...</th>\n",
       "      <th>B00KNM763E</th>\n",
       "      <th>B00KONCDVM</th>\n",
       "      <th>B00KVNY2KA</th>\n",
       "      <th>B00KXAFYZS</th>\n",
       "      <th>B00KYMCJF8</th>\n",
       "      <th>B00L21HC7A</th>\n",
       "      <th>B00L2442H0</th>\n",
       "      <th>B00L26YDA4</th>\n",
       "      <th>B00L3YHF6O</th>\n",
       "      <th>B00LGQ6HL8</th>\n",
       "    </tr>\n",
       "    <tr>\n",
       "      <th>Userid</th>\n",
       "      <th></th>\n",
       "      <th></th>\n",
       "      <th></th>\n",
       "      <th></th>\n",
       "      <th></th>\n",
       "      <th></th>\n",
       "      <th></th>\n",
       "      <th></th>\n",
       "      <th></th>\n",
       "      <th></th>\n",
       "      <th></th>\n",
       "      <th></th>\n",
       "      <th></th>\n",
       "      <th></th>\n",
       "      <th></th>\n",
       "      <th></th>\n",
       "      <th></th>\n",
       "      <th></th>\n",
       "      <th></th>\n",
       "      <th></th>\n",
       "      <th></th>\n",
       "    </tr>\n",
       "  </thead>\n",
       "  <tbody>\n",
       "    <tr>\n",
       "      <th>A100UD67AHFODS</th>\n",
       "      <td>0.0</td>\n",
       "      <td>0.0</td>\n",
       "      <td>0.0</td>\n",
       "      <td>0.0</td>\n",
       "      <td>0.0</td>\n",
       "      <td>0.0</td>\n",
       "      <td>0.0</td>\n",
       "      <td>0.0</td>\n",
       "      <td>0.0</td>\n",
       "      <td>0.0</td>\n",
       "      <td>...</td>\n",
       "      <td>0.0</td>\n",
       "      <td>0.0</td>\n",
       "      <td>0.0</td>\n",
       "      <td>0.0</td>\n",
       "      <td>0.0</td>\n",
       "      <td>0.0</td>\n",
       "      <td>0.0</td>\n",
       "      <td>0.0</td>\n",
       "      <td>0.0</td>\n",
       "      <td>0.0</td>\n",
       "    </tr>\n",
       "    <tr>\n",
       "      <th>A100WO06OQR8BQ</th>\n",
       "      <td>0.0</td>\n",
       "      <td>0.0</td>\n",
       "      <td>0.0</td>\n",
       "      <td>0.0</td>\n",
       "      <td>0.0</td>\n",
       "      <td>0.0</td>\n",
       "      <td>0.0</td>\n",
       "      <td>0.0</td>\n",
       "      <td>0.0</td>\n",
       "      <td>0.0</td>\n",
       "      <td>...</td>\n",
       "      <td>0.0</td>\n",
       "      <td>0.0</td>\n",
       "      <td>0.0</td>\n",
       "      <td>0.0</td>\n",
       "      <td>0.0</td>\n",
       "      <td>0.0</td>\n",
       "      <td>0.0</td>\n",
       "      <td>0.0</td>\n",
       "      <td>0.0</td>\n",
       "      <td>0.0</td>\n",
       "    </tr>\n",
       "    <tr>\n",
       "      <th>A105S56ODHGJEK</th>\n",
       "      <td>0.0</td>\n",
       "      <td>0.0</td>\n",
       "      <td>0.0</td>\n",
       "      <td>0.0</td>\n",
       "      <td>0.0</td>\n",
       "      <td>0.0</td>\n",
       "      <td>0.0</td>\n",
       "      <td>0.0</td>\n",
       "      <td>0.0</td>\n",
       "      <td>0.0</td>\n",
       "      <td>...</td>\n",
       "      <td>0.0</td>\n",
       "      <td>0.0</td>\n",
       "      <td>0.0</td>\n",
       "      <td>0.0</td>\n",
       "      <td>0.0</td>\n",
       "      <td>0.0</td>\n",
       "      <td>0.0</td>\n",
       "      <td>0.0</td>\n",
       "      <td>0.0</td>\n",
       "      <td>0.0</td>\n",
       "    </tr>\n",
       "    <tr>\n",
       "      <th>A105TOJ6LTVMBG</th>\n",
       "      <td>0.0</td>\n",
       "      <td>0.0</td>\n",
       "      <td>0.0</td>\n",
       "      <td>0.0</td>\n",
       "      <td>0.0</td>\n",
       "      <td>4.0</td>\n",
       "      <td>0.0</td>\n",
       "      <td>0.0</td>\n",
       "      <td>0.0</td>\n",
       "      <td>0.0</td>\n",
       "      <td>...</td>\n",
       "      <td>0.0</td>\n",
       "      <td>0.0</td>\n",
       "      <td>0.0</td>\n",
       "      <td>0.0</td>\n",
       "      <td>0.0</td>\n",
       "      <td>0.0</td>\n",
       "      <td>0.0</td>\n",
       "      <td>0.0</td>\n",
       "      <td>0.0</td>\n",
       "      <td>0.0</td>\n",
       "    </tr>\n",
       "    <tr>\n",
       "      <th>A10AFVU66A79Y1</th>\n",
       "      <td>0.0</td>\n",
       "      <td>0.0</td>\n",
       "      <td>0.0</td>\n",
       "      <td>0.0</td>\n",
       "      <td>0.0</td>\n",
       "      <td>0.0</td>\n",
       "      <td>0.0</td>\n",
       "      <td>0.0</td>\n",
       "      <td>0.0</td>\n",
       "      <td>0.0</td>\n",
       "      <td>...</td>\n",
       "      <td>0.0</td>\n",
       "      <td>0.0</td>\n",
       "      <td>0.0</td>\n",
       "      <td>0.0</td>\n",
       "      <td>0.0</td>\n",
       "      <td>0.0</td>\n",
       "      <td>0.0</td>\n",
       "      <td>0.0</td>\n",
       "      <td>0.0</td>\n",
       "      <td>0.0</td>\n",
       "    </tr>\n",
       "  </tbody>\n",
       "</table>\n",
       "<p>5 rows × 5689 columns</p>\n",
       "</div>"
      ],
      "text/plain": [
       "Productid       1400501466  1400532655  1400599997  9983891212  B00000DM9W  \\\n",
       "Userid                                                                       \n",
       "A100UD67AHFODS         0.0         0.0         0.0         0.0         0.0   \n",
       "A100WO06OQR8BQ         0.0         0.0         0.0         0.0         0.0   \n",
       "A105S56ODHGJEK         0.0         0.0         0.0         0.0         0.0   \n",
       "A105TOJ6LTVMBG         0.0         0.0         0.0         0.0         0.0   \n",
       "A10AFVU66A79Y1         0.0         0.0         0.0         0.0         0.0   \n",
       "\n",
       "Productid       B00000J1V5  B00000JDF5  B00000JDF6  B00000K135  B00000K4KH  \\\n",
       "Userid                                                                       \n",
       "A100UD67AHFODS         0.0         0.0         0.0         0.0         0.0   \n",
       "A100WO06OQR8BQ         0.0         0.0         0.0         0.0         0.0   \n",
       "A105S56ODHGJEK         0.0         0.0         0.0         0.0         0.0   \n",
       "A105TOJ6LTVMBG         4.0         0.0         0.0         0.0         0.0   \n",
       "A10AFVU66A79Y1         0.0         0.0         0.0         0.0         0.0   \n",
       "\n",
       "Productid       ...  B00KNM763E  B00KONCDVM  B00KVNY2KA  B00KXAFYZS  \\\n",
       "Userid          ...                                                   \n",
       "A100UD67AHFODS  ...         0.0         0.0         0.0         0.0   \n",
       "A100WO06OQR8BQ  ...         0.0         0.0         0.0         0.0   \n",
       "A105S56ODHGJEK  ...         0.0         0.0         0.0         0.0   \n",
       "A105TOJ6LTVMBG  ...         0.0         0.0         0.0         0.0   \n",
       "A10AFVU66A79Y1  ...         0.0         0.0         0.0         0.0   \n",
       "\n",
       "Productid       B00KYMCJF8  B00L21HC7A  B00L2442H0  B00L26YDA4  B00L3YHF6O  \\\n",
       "Userid                                                                       \n",
       "A100UD67AHFODS         0.0         0.0         0.0         0.0         0.0   \n",
       "A100WO06OQR8BQ         0.0         0.0         0.0         0.0         0.0   \n",
       "A105S56ODHGJEK         0.0         0.0         0.0         0.0         0.0   \n",
       "A105TOJ6LTVMBG         0.0         0.0         0.0         0.0         0.0   \n",
       "A10AFVU66A79Y1         0.0         0.0         0.0         0.0         0.0   \n",
       "\n",
       "Productid       B00LGQ6HL8  \n",
       "Userid                      \n",
       "A100UD67AHFODS         0.0  \n",
       "A100WO06OQR8BQ         0.0  \n",
       "A105S56ODHGJEK         0.0  \n",
       "A105TOJ6LTVMBG         0.0  \n",
       "A10AFVU66A79Y1         0.0  \n",
       "\n",
       "[5 rows x 5689 columns]"
      ]
     },
     "execution_count": 57,
     "metadata": {},
     "output_type": "execute_result"
    }
   ],
   "source": [
    "# Create User-Item Matrix\n",
    "user_item_matrix = df_final.pivot_table(index='Userid', columns='Productid', values='Rating').fillna(0)\n",
    "\n",
    "# View the matrix\n",
    "user_item_matrix.head()\n"
   ]
  },
  {
   "cell_type": "code",
   "execution_count": 58,
   "metadata": {
    "colab": {
     "base_uri": "https://localhost:8080/"
    },
    "id": "66NuFSXrCI0C",
    "outputId": "67d418a0-ec4d-40e9-a483-746220c9cf37"
   },
   "outputs": [],
   "source": [
    "# Convert User-Item Matrix to Sparse format (for memory efficiency)\n",
    "#from scipy.sparse import csr_matrix\n",
    "\n",
    "#user_item_sparse = csr_matrix(user_item_matrix)\n",
    "\n",
    "#print(user_item_sparse.shape)\n"
   ]
  },
  {
   "cell_type": "code",
   "execution_count": 59,
   "metadata": {
    "colab": {
     "base_uri": "https://localhost:8080/"
    },
    "id": "BIn1l0EVCIxW",
    "outputId": "cc51caa7-ac97-4a67-f6e5-508936f8059f"
   },
   "outputs": [
    {
     "name": "stdout",
     "output_type": "stream",
     "text": [
      "(1539, 1539)\n"
     ]
    }
   ],
   "source": [
    "# Calculate Cosine Similarity between users\n",
    "from sklearn.metrics.pairwise import cosine_similarity\n",
    "\n",
    "user_similarity = cosine_similarity(user_item_matrix)\n",
    "\n",
    "print(user_similarity.shape)\n"
   ]
  },
  {
   "cell_type": "code",
   "execution_count": 60,
   "metadata": {
    "colab": {
     "base_uri": "https://localhost:8080/",
     "height": 287
    },
    "id": "0R9DOfyqCIpT",
    "outputId": "c28edf36-7840-4773-f1fd-71d412ecab6c"
   },
   "outputs": [
    {
     "data": {
      "text/html": [
       "<div>\n",
       "<style scoped>\n",
       "    .dataframe tbody tr th:only-of-type {\n",
       "        vertical-align: middle;\n",
       "    }\n",
       "\n",
       "    .dataframe tbody tr th {\n",
       "        vertical-align: top;\n",
       "    }\n",
       "\n",
       "    .dataframe thead th {\n",
       "        text-align: right;\n",
       "    }\n",
       "</style>\n",
       "<table border=\"1\" class=\"dataframe\">\n",
       "  <thead>\n",
       "    <tr style=\"text-align: right;\">\n",
       "      <th>Userid</th>\n",
       "      <th>A100UD67AHFODS</th>\n",
       "      <th>A100WO06OQR8BQ</th>\n",
       "      <th>A105S56ODHGJEK</th>\n",
       "      <th>A105TOJ6LTVMBG</th>\n",
       "      <th>A10AFVU66A79Y1</th>\n",
       "      <th>A10H24TDLK2VDP</th>\n",
       "      <th>A10NMELR4KX0J6</th>\n",
       "      <th>A10O7THJ2O20AG</th>\n",
       "      <th>A10PEXB6XAQ5XF</th>\n",
       "      <th>A10X9ME6R66JDX</th>\n",
       "      <th>...</th>\n",
       "      <th>AYOTEJ617O60K</th>\n",
       "      <th>AYP0YPLSP9ISM</th>\n",
       "      <th>AZ515FFZ7I2P7</th>\n",
       "      <th>AZ8XSDMIX04VJ</th>\n",
       "      <th>AZAC8O310IK4E</th>\n",
       "      <th>AZBXKUH4AIW3X</th>\n",
       "      <th>AZCE11PSTCH1L</th>\n",
       "      <th>AZMY6E8B52L2T</th>\n",
       "      <th>AZNUHQSHZHSUE</th>\n",
       "      <th>AZOK5STV85FBJ</th>\n",
       "    </tr>\n",
       "    <tr>\n",
       "      <th>Userid</th>\n",
       "      <th></th>\n",
       "      <th></th>\n",
       "      <th></th>\n",
       "      <th></th>\n",
       "      <th></th>\n",
       "      <th></th>\n",
       "      <th></th>\n",
       "      <th></th>\n",
       "      <th></th>\n",
       "      <th></th>\n",
       "      <th></th>\n",
       "      <th></th>\n",
       "      <th></th>\n",
       "      <th></th>\n",
       "      <th></th>\n",
       "      <th></th>\n",
       "      <th></th>\n",
       "      <th></th>\n",
       "      <th></th>\n",
       "      <th></th>\n",
       "      <th></th>\n",
       "    </tr>\n",
       "  </thead>\n",
       "  <tbody>\n",
       "    <tr>\n",
       "      <th>A100UD67AHFODS</th>\n",
       "      <td>1.000000</td>\n",
       "      <td>0.021334</td>\n",
       "      <td>0.000000</td>\n",
       "      <td>0.031196</td>\n",
       "      <td>0.019799</td>\n",
       "      <td>0.000000</td>\n",
       "      <td>0.056098</td>\n",
       "      <td>0.068164</td>\n",
       "      <td>0.019819</td>\n",
       "      <td>0.043333</td>\n",
       "      <td>...</td>\n",
       "      <td>0.061993</td>\n",
       "      <td>0.0</td>\n",
       "      <td>0.000000</td>\n",
       "      <td>0.056509</td>\n",
       "      <td>0.061613</td>\n",
       "      <td>0.000000</td>\n",
       "      <td>0.0</td>\n",
       "      <td>0.074956</td>\n",
       "      <td>0.029883</td>\n",
       "      <td>0.040966</td>\n",
       "    </tr>\n",
       "    <tr>\n",
       "      <th>A100WO06OQR8BQ</th>\n",
       "      <td>0.021334</td>\n",
       "      <td>1.000000</td>\n",
       "      <td>0.018792</td>\n",
       "      <td>0.030694</td>\n",
       "      <td>0.014610</td>\n",
       "      <td>0.015018</td>\n",
       "      <td>0.027598</td>\n",
       "      <td>0.035769</td>\n",
       "      <td>0.026521</td>\n",
       "      <td>0.000000</td>\n",
       "      <td>...</td>\n",
       "      <td>0.033886</td>\n",
       "      <td>0.0</td>\n",
       "      <td>0.022563</td>\n",
       "      <td>0.000000</td>\n",
       "      <td>0.029937</td>\n",
       "      <td>0.035996</td>\n",
       "      <td>0.0</td>\n",
       "      <td>0.029500</td>\n",
       "      <td>0.000000</td>\n",
       "      <td>0.000000</td>\n",
       "    </tr>\n",
       "    <tr>\n",
       "      <th>A105S56ODHGJEK</th>\n",
       "      <td>0.000000</td>\n",
       "      <td>0.018792</td>\n",
       "      <td>1.000000</td>\n",
       "      <td>0.000000</td>\n",
       "      <td>0.027251</td>\n",
       "      <td>0.073529</td>\n",
       "      <td>0.000000</td>\n",
       "      <td>0.000000</td>\n",
       "      <td>0.039281</td>\n",
       "      <td>0.000000</td>\n",
       "      <td>...</td>\n",
       "      <td>0.000000</td>\n",
       "      <td>0.0</td>\n",
       "      <td>0.042665</td>\n",
       "      <td>0.000000</td>\n",
       "      <td>0.013401</td>\n",
       "      <td>0.000000</td>\n",
       "      <td>0.0</td>\n",
       "      <td>0.000000</td>\n",
       "      <td>0.032905</td>\n",
       "      <td>0.000000</td>\n",
       "    </tr>\n",
       "    <tr>\n",
       "      <th>A105TOJ6LTVMBG</th>\n",
       "      <td>0.031196</td>\n",
       "      <td>0.030694</td>\n",
       "      <td>0.000000</td>\n",
       "      <td>1.000000</td>\n",
       "      <td>0.000000</td>\n",
       "      <td>0.000000</td>\n",
       "      <td>0.040356</td>\n",
       "      <td>0.000000</td>\n",
       "      <td>0.000000</td>\n",
       "      <td>0.000000</td>\n",
       "      <td>...</td>\n",
       "      <td>0.089192</td>\n",
       "      <td>0.0</td>\n",
       "      <td>0.022754</td>\n",
       "      <td>0.000000</td>\n",
       "      <td>0.027360</td>\n",
       "      <td>0.042109</td>\n",
       "      <td>0.0</td>\n",
       "      <td>0.078510</td>\n",
       "      <td>0.000000</td>\n",
       "      <td>0.000000</td>\n",
       "    </tr>\n",
       "    <tr>\n",
       "      <th>A10AFVU66A79Y1</th>\n",
       "      <td>0.019799</td>\n",
       "      <td>0.014610</td>\n",
       "      <td>0.027251</td>\n",
       "      <td>0.000000</td>\n",
       "      <td>1.000000</td>\n",
       "      <td>0.027222</td>\n",
       "      <td>0.000000</td>\n",
       "      <td>0.000000</td>\n",
       "      <td>0.000000</td>\n",
       "      <td>0.024731</td>\n",
       "      <td>...</td>\n",
       "      <td>0.000000</td>\n",
       "      <td>0.0</td>\n",
       "      <td>0.025272</td>\n",
       "      <td>0.064500</td>\n",
       "      <td>0.060775</td>\n",
       "      <td>0.000000</td>\n",
       "      <td>0.0</td>\n",
       "      <td>0.000000</td>\n",
       "      <td>0.000000</td>\n",
       "      <td>0.000000</td>\n",
       "    </tr>\n",
       "  </tbody>\n",
       "</table>\n",
       "<p>5 rows × 1539 columns</p>\n",
       "</div>"
      ],
      "text/plain": [
       "Userid          A100UD67AHFODS  A100WO06OQR8BQ  A105S56ODHGJEK  \\\n",
       "Userid                                                           \n",
       "A100UD67AHFODS        1.000000        0.021334        0.000000   \n",
       "A100WO06OQR8BQ        0.021334        1.000000        0.018792   \n",
       "A105S56ODHGJEK        0.000000        0.018792        1.000000   \n",
       "A105TOJ6LTVMBG        0.031196        0.030694        0.000000   \n",
       "A10AFVU66A79Y1        0.019799        0.014610        0.027251   \n",
       "\n",
       "Userid          A105TOJ6LTVMBG  A10AFVU66A79Y1  A10H24TDLK2VDP  \\\n",
       "Userid                                                           \n",
       "A100UD67AHFODS        0.031196        0.019799        0.000000   \n",
       "A100WO06OQR8BQ        0.030694        0.014610        0.015018   \n",
       "A105S56ODHGJEK        0.000000        0.027251        0.073529   \n",
       "A105TOJ6LTVMBG        1.000000        0.000000        0.000000   \n",
       "A10AFVU66A79Y1        0.000000        1.000000        0.027222   \n",
       "\n",
       "Userid          A10NMELR4KX0J6  A10O7THJ2O20AG  A10PEXB6XAQ5XF  \\\n",
       "Userid                                                           \n",
       "A100UD67AHFODS        0.056098        0.068164        0.019819   \n",
       "A100WO06OQR8BQ        0.027598        0.035769        0.026521   \n",
       "A105S56ODHGJEK        0.000000        0.000000        0.039281   \n",
       "A105TOJ6LTVMBG        0.040356        0.000000        0.000000   \n",
       "A10AFVU66A79Y1        0.000000        0.000000        0.000000   \n",
       "\n",
       "Userid          A10X9ME6R66JDX  ...  AYOTEJ617O60K  AYP0YPLSP9ISM  \\\n",
       "Userid                          ...                                 \n",
       "A100UD67AHFODS        0.043333  ...       0.061993            0.0   \n",
       "A100WO06OQR8BQ        0.000000  ...       0.033886            0.0   \n",
       "A105S56ODHGJEK        0.000000  ...       0.000000            0.0   \n",
       "A105TOJ6LTVMBG        0.000000  ...       0.089192            0.0   \n",
       "A10AFVU66A79Y1        0.024731  ...       0.000000            0.0   \n",
       "\n",
       "Userid          AZ515FFZ7I2P7  AZ8XSDMIX04VJ  AZAC8O310IK4E  AZBXKUH4AIW3X  \\\n",
       "Userid                                                                       \n",
       "A100UD67AHFODS       0.000000       0.056509       0.061613       0.000000   \n",
       "A100WO06OQR8BQ       0.022563       0.000000       0.029937       0.035996   \n",
       "A105S56ODHGJEK       0.042665       0.000000       0.013401       0.000000   \n",
       "A105TOJ6LTVMBG       0.022754       0.000000       0.027360       0.042109   \n",
       "A10AFVU66A79Y1       0.025272       0.064500       0.060775       0.000000   \n",
       "\n",
       "Userid          AZCE11PSTCH1L  AZMY6E8B52L2T  AZNUHQSHZHSUE  AZOK5STV85FBJ  \n",
       "Userid                                                                      \n",
       "A100UD67AHFODS            0.0       0.074956       0.029883       0.040966  \n",
       "A100WO06OQR8BQ            0.0       0.029500       0.000000       0.000000  \n",
       "A105S56ODHGJEK            0.0       0.000000       0.032905       0.000000  \n",
       "A105TOJ6LTVMBG            0.0       0.078510       0.000000       0.000000  \n",
       "A10AFVU66A79Y1            0.0       0.000000       0.000000       0.000000  \n",
       "\n",
       "[5 rows x 1539 columns]"
      ]
     },
     "execution_count": 60,
     "metadata": {},
     "output_type": "execute_result"
    }
   ],
   "source": [
    "# Create a DataFrame to better visualize User Similarity\n",
    "user_similarity_df = pd.DataFrame(user_similarity,\n",
    "                                  index=user_item_matrix.index,\n",
    "                                  columns=user_item_matrix.index)\n",
    "\n",
    "user_similarity_df.head()\n"
   ]
  },
  {
   "cell_type": "code",
   "execution_count": 61,
   "metadata": {
    "id": "hLIjhOpYRK5O"
   },
   "outputs": [],
   "source": [
    "# Recommendation function based on similar users\n",
    "def recommend_items(Userid, num_recommendations=5):\n",
    "    if Userid not in user_similarity_df.index:\n",
    "        print(\"User ID not found.\")\n",
    "        return []\n",
    "\n",
    "    # Find similar users (excluding the user itself)\n",
    "    similar_users = user_similarity_df[Userid].sort_values(ascending=False).drop(Userid).head(5)\n",
    "\n",
    "    # Fetch items rated by similar users\n",
    "    similar_users_ids = similar_users.index.tolist()\n",
    "    similar_users_ratings = df_final[df_final['Userid'].isin(similar_users_ids)]\n",
    "\n",
    "    # Items already rated by the target user\n",
    "    user_rated_items = df_final[df_final['Userid'] == user_id]['Productid'].tolist()\n",
    "\n",
    "    # Filter out items the user has already rated\n",
    "    recommendations = similar_users_ratings[~similar_users_ratings['Productid'].isin(user_rated_items)]\n",
    "\n",
    "    # Take the highest rated items from similar users\n",
    "    top_recommendations = recommendations.groupby('Productid')['Rating'].mean().sort_values(ascending=False).head(num_recommendations)\n",
    "\n",
    "    return top_recommendations.index.tolist()\n"
   ]
  },
  {
   "cell_type": "code",
   "execution_count": 62,
   "metadata": {
    "colab": {
     "base_uri": "https://localhost:8080/"
    },
    "id": "XLT19eaNKXzi",
    "outputId": "edc801b4-ebf2-470e-f7e0-2977f6ace2c2"
   },
   "outputs": [
    {
     "name": "stdout",
     "output_type": "stream",
     "text": [
      "\n",
      "Recommended Items for User A3LDPF5FMB782Z:\n",
      "['B002JCSV5I', 'B002ZIMEMW', 'B001PKTR76', 'B001VO4MOY', 'B002HEWA28', 'B002J9HBIO', 'B002PX9BX2', 'B002WE6D44', 'B003VAGXWK', 'B001EPVOQY']\n"
     ]
    }
   ],
   "source": [
    "# Get recommendations for a user\n",
    "user_id = 'A3LDPF5FMB782Z'  # Example user ID\n",
    "recommendations = recommend_items(Userid, num_recommendations=10)\n",
    "\n",
    "#print(f\"Recommended item IDs for User {user_id}: {recommendations}\")\n",
    "print(f\"\\nRecommended Items for User {Userid}:\")\n",
    "print(recommendations)\n"
   ]
  },
  {
   "cell_type": "code",
   "execution_count": null,
   "metadata": {},
   "outputs": [],
   "source": []
  },
  {
   "cell_type": "markdown",
   "metadata": {},
   "source": [
    "## LIGHTGBM AND XGBOOST"
   ]
  },
  {
   "cell_type": "code",
   "execution_count": null,
   "metadata": {},
   "outputs": [],
   "source": [
    "#!pip install lightgbm"
   ]
  },
  {
   "cell_type": "code",
   "execution_count": null,
   "metadata": {},
   "outputs": [],
   "source": [
    "#!pip install \"numpy<2\""
   ]
  },
  {
   "cell_type": "code",
   "execution_count": 63,
   "metadata": {
    "id": "4al4JgdrUlWt"
   },
   "outputs": [],
   "source": [
    "# importing libraries\n",
    "import pandas as pd\n",
    "import numpy as np\n",
    "from sklearn.model_selection import train_test_split\n",
    "from sklearn.metrics import accuracy_score, precision_score, recall_score, f1_score, roc_auc_score\n",
    "import lightgbm as lgb\n",
    "import xgboost as xgb\n"
   ]
  },
  {
   "cell_type": "code",
   "execution_count": 64,
   "metadata": {
    "id": "xonfPV_wUlUe"
   },
   "outputs": [
    {
     "data": {
      "text/html": [
       "<div>\n",
       "<style scoped>\n",
       "    .dataframe tbody tr th:only-of-type {\n",
       "        vertical-align: middle;\n",
       "    }\n",
       "\n",
       "    .dataframe tbody tr th {\n",
       "        vertical-align: top;\n",
       "    }\n",
       "\n",
       "    .dataframe thead th {\n",
       "        text-align: right;\n",
       "    }\n",
       "</style>\n",
       "<table border=\"1\" class=\"dataframe\">\n",
       "  <thead>\n",
       "    <tr style=\"text-align: right;\">\n",
       "      <th></th>\n",
       "      <th>Userid</th>\n",
       "      <th>Productid</th>\n",
       "      <th>Rating</th>\n",
       "      <th>Timestamp</th>\n",
       "    </tr>\n",
       "  </thead>\n",
       "  <tbody>\n",
       "    <tr>\n",
       "      <th>0</th>\n",
       "      <td>A3LDPF5FMB782Z</td>\n",
       "      <td>1400501466</td>\n",
       "      <td>5.0</td>\n",
       "      <td>1336003200</td>\n",
       "    </tr>\n",
       "    <tr>\n",
       "      <th>1</th>\n",
       "      <td>A1A5KUIIIHFF4U</td>\n",
       "      <td>1400501466</td>\n",
       "      <td>1.0</td>\n",
       "      <td>1332547200</td>\n",
       "    </tr>\n",
       "    <tr>\n",
       "      <th>2</th>\n",
       "      <td>A2XIOXRRYX0KZY</td>\n",
       "      <td>1400501466</td>\n",
       "      <td>3.0</td>\n",
       "      <td>1371686400</td>\n",
       "    </tr>\n",
       "    <tr>\n",
       "      <th>3</th>\n",
       "      <td>AW3LX47IHPFRL</td>\n",
       "      <td>1400501466</td>\n",
       "      <td>5.0</td>\n",
       "      <td>1339804800</td>\n",
       "    </tr>\n",
       "    <tr>\n",
       "      <th>4</th>\n",
       "      <td>A1E3OB6QMBKRYZ</td>\n",
       "      <td>1400501466</td>\n",
       "      <td>1.0</td>\n",
       "      <td>1350086400</td>\n",
       "    </tr>\n",
       "  </tbody>\n",
       "</table>\n",
       "</div>"
      ],
      "text/plain": [
       "           Userid   Productid  Rating   Timestamp\n",
       "0  A3LDPF5FMB782Z  1400501466     5.0  1336003200\n",
       "1  A1A5KUIIIHFF4U  1400501466     1.0  1332547200\n",
       "2  A2XIOXRRYX0KZY  1400501466     3.0  1371686400\n",
       "3   AW3LX47IHPFRL  1400501466     5.0  1339804800\n",
       "4  A1E3OB6QMBKRYZ  1400501466     1.0  1350086400"
      ]
     },
     "execution_count": 64,
     "metadata": {},
     "output_type": "execute_result"
    }
   ],
   "source": [
    "# Loading dataset\n",
    "df_final = pd.read_csv('df_final.csv')\n",
    "df_final.head()"
   ]
  },
  {
   "cell_type": "code",
   "execution_count": 65,
   "metadata": {
    "id": "xonfPV_wUlUe"
   },
   "outputs": [],
   "source": [
    "# Convert 'Timestamp' to datetime\n",
    "df_final['Timestamp'] = pd.to_datetime(df_final['Timestamp'], unit='s', errors='coerce')"
   ]
  },
  {
   "cell_type": "code",
   "execution_count": 66,
   "metadata": {
    "id": "xonfPV_wUlUe"
   },
   "outputs": [],
   "source": [
    "# Create additional time-based features\n",
    "df_final['year'] = df_final['Timestamp'].dt.year\n",
    "df_final['month'] = df_final['Timestamp'].dt.month\n",
    "df_final['day'] = df_final['Timestamp'].dt.day\n",
    "df_final['weekday'] = df_final['Timestamp'].dt.weekday"
   ]
  },
  {
   "cell_type": "code",
   "execution_count": 67,
   "metadata": {
    "id": "xonfPV_wUlUe"
   },
   "outputs": [],
   "source": [
    "# Create the 'liked' target (binary)\n",
    "df_final['liked'] = df_final['Rating'].apply(lambda x: 1 if x >= 3 else 0)"
   ]
  },
  {
   "cell_type": "code",
   "execution_count": 73,
   "metadata": {},
   "outputs": [
    {
     "data": {
      "text/html": [
       "<div>\n",
       "<style scoped>\n",
       "    .dataframe tbody tr th:only-of-type {\n",
       "        vertical-align: middle;\n",
       "    }\n",
       "\n",
       "    .dataframe tbody tr th {\n",
       "        vertical-align: top;\n",
       "    }\n",
       "\n",
       "    .dataframe thead th {\n",
       "        text-align: right;\n",
       "    }\n",
       "</style>\n",
       "<table border=\"1\" class=\"dataframe\">\n",
       "  <thead>\n",
       "    <tr style=\"text-align: right;\">\n",
       "      <th></th>\n",
       "      <th>Userid</th>\n",
       "      <th>Productid</th>\n",
       "      <th>Rating</th>\n",
       "      <th>Timestamp</th>\n",
       "      <th>year</th>\n",
       "      <th>month</th>\n",
       "      <th>day</th>\n",
       "      <th>weekday</th>\n",
       "      <th>liked</th>\n",
       "    </tr>\n",
       "  </thead>\n",
       "  <tbody>\n",
       "    <tr>\n",
       "      <th>0</th>\n",
       "      <td>1050</td>\n",
       "      <td>0</td>\n",
       "      <td>5.0</td>\n",
       "      <td>2012-05-03</td>\n",
       "      <td>2012</td>\n",
       "      <td>5</td>\n",
       "      <td>3</td>\n",
       "      <td>3</td>\n",
       "      <td>1</td>\n",
       "    </tr>\n",
       "    <tr>\n",
       "      <th>1</th>\n",
       "      <td>125</td>\n",
       "      <td>0</td>\n",
       "      <td>1.0</td>\n",
       "      <td>2012-03-24</td>\n",
       "      <td>2012</td>\n",
       "      <td>3</td>\n",
       "      <td>24</td>\n",
       "      <td>5</td>\n",
       "      <td>0</td>\n",
       "    </tr>\n",
       "    <tr>\n",
       "      <th>2</th>\n",
       "      <td>785</td>\n",
       "      <td>0</td>\n",
       "      <td>3.0</td>\n",
       "      <td>2013-06-20</td>\n",
       "      <td>2013</td>\n",
       "      <td>6</td>\n",
       "      <td>20</td>\n",
       "      <td>3</td>\n",
       "      <td>1</td>\n",
       "    </tr>\n",
       "    <tr>\n",
       "      <th>3</th>\n",
       "      <td>1495</td>\n",
       "      <td>0</td>\n",
       "      <td>5.0</td>\n",
       "      <td>2012-06-16</td>\n",
       "      <td>2012</td>\n",
       "      <td>6</td>\n",
       "      <td>16</td>\n",
       "      <td>5</td>\n",
       "      <td>1</td>\n",
       "    </tr>\n",
       "    <tr>\n",
       "      <th>4</th>\n",
       "      <td>164</td>\n",
       "      <td>0</td>\n",
       "      <td>1.0</td>\n",
       "      <td>2012-10-13</td>\n",
       "      <td>2012</td>\n",
       "      <td>10</td>\n",
       "      <td>13</td>\n",
       "      <td>5</td>\n",
       "      <td>0</td>\n",
       "    </tr>\n",
       "  </tbody>\n",
       "</table>\n",
       "</div>"
      ],
      "text/plain": [
       "   Userid  Productid  Rating  Timestamp  year  month  day  weekday  liked\n",
       "0    1050          0     5.0 2012-05-03  2012      5    3        3      1\n",
       "1     125          0     1.0 2012-03-24  2012      3   24        5      0\n",
       "2     785          0     3.0 2013-06-20  2013      6   20        3      1\n",
       "3    1495          0     5.0 2012-06-16  2012      6   16        5      1\n",
       "4     164          0     1.0 2012-10-13  2012     10   13        5      0"
      ]
     },
     "execution_count": 73,
     "metadata": {},
     "output_type": "execute_result"
    }
   ],
   "source": [
    "df_final.head()"
   ]
  },
  {
   "cell_type": "code",
   "execution_count": 74,
   "metadata": {},
   "outputs": [
    {
     "data": {
      "text/html": [
       "<div>\n",
       "<style scoped>\n",
       "    .dataframe tbody tr th:only-of-type {\n",
       "        vertical-align: middle;\n",
       "    }\n",
       "\n",
       "    .dataframe tbody tr th {\n",
       "        vertical-align: top;\n",
       "    }\n",
       "\n",
       "    .dataframe thead th {\n",
       "        text-align: right;\n",
       "    }\n",
       "</style>\n",
       "<table border=\"1\" class=\"dataframe\">\n",
       "  <thead>\n",
       "    <tr style=\"text-align: right;\">\n",
       "      <th></th>\n",
       "      <th>Userid</th>\n",
       "      <th>Productid</th>\n",
       "      <th>Rating</th>\n",
       "      <th>Timestamp</th>\n",
       "      <th>year</th>\n",
       "      <th>month</th>\n",
       "      <th>day</th>\n",
       "      <th>weekday</th>\n",
       "      <th>liked</th>\n",
       "    </tr>\n",
       "  </thead>\n",
       "  <tbody>\n",
       "    <tr>\n",
       "      <th>0</th>\n",
       "      <td>1050</td>\n",
       "      <td>0</td>\n",
       "      <td>5.0</td>\n",
       "      <td>2012-05-03</td>\n",
       "      <td>2012</td>\n",
       "      <td>5</td>\n",
       "      <td>3</td>\n",
       "      <td>3</td>\n",
       "      <td>1</td>\n",
       "    </tr>\n",
       "    <tr>\n",
       "      <th>1</th>\n",
       "      <td>125</td>\n",
       "      <td>0</td>\n",
       "      <td>1.0</td>\n",
       "      <td>2012-03-24</td>\n",
       "      <td>2012</td>\n",
       "      <td>3</td>\n",
       "      <td>24</td>\n",
       "      <td>5</td>\n",
       "      <td>0</td>\n",
       "    </tr>\n",
       "    <tr>\n",
       "      <th>2</th>\n",
       "      <td>785</td>\n",
       "      <td>0</td>\n",
       "      <td>3.0</td>\n",
       "      <td>2013-06-20</td>\n",
       "      <td>2013</td>\n",
       "      <td>6</td>\n",
       "      <td>20</td>\n",
       "      <td>3</td>\n",
       "      <td>1</td>\n",
       "    </tr>\n",
       "    <tr>\n",
       "      <th>3</th>\n",
       "      <td>1495</td>\n",
       "      <td>0</td>\n",
       "      <td>5.0</td>\n",
       "      <td>2012-06-16</td>\n",
       "      <td>2012</td>\n",
       "      <td>6</td>\n",
       "      <td>16</td>\n",
       "      <td>5</td>\n",
       "      <td>1</td>\n",
       "    </tr>\n",
       "    <tr>\n",
       "      <th>4</th>\n",
       "      <td>164</td>\n",
       "      <td>0</td>\n",
       "      <td>1.0</td>\n",
       "      <td>2012-10-13</td>\n",
       "      <td>2012</td>\n",
       "      <td>10</td>\n",
       "      <td>13</td>\n",
       "      <td>5</td>\n",
       "      <td>0</td>\n",
       "    </tr>\n",
       "  </tbody>\n",
       "</table>\n",
       "</div>"
      ],
      "text/plain": [
       "   Userid  Productid  Rating  Timestamp  year  month  day  weekday  liked\n",
       "0    1050          0     5.0 2012-05-03  2012      5    3        3      1\n",
       "1     125          0     1.0 2012-03-24  2012      3   24        5      0\n",
       "2     785          0     3.0 2013-06-20  2013      6   20        3      1\n",
       "3    1495          0     5.0 2012-06-16  2012      6   16        5      1\n",
       "4     164          0     1.0 2012-10-13  2012     10   13        5      0"
      ]
     },
     "execution_count": 74,
     "metadata": {},
     "output_type": "execute_result"
    }
   ],
   "source": [
    "# label encode categorical variables\n",
    "\n",
    "from sklearn.preprocessing import LabelEncoder\n",
    "\n",
    "# Create a LabelEncoder object\n",
    "le = LabelEncoder()\n",
    "\n",
    "# Iterate through the columns 'Sex' and 'Embarked'\n",
    "for column in ['Userid', 'Productid']:\n",
    "    # Fit and transform the column using LabelEncoder\n",
    "    df_final[column] = le.fit_transform(df_final[column])\n",
    "# Print the updated DataFrame\n",
    "df_final.head()"
   ]
  },
  {
   "cell_type": "code",
   "execution_count": 75,
   "metadata": {
    "id": "xonfPV_wUlUe"
   },
   "outputs": [],
   "source": [
    "# Define features and target\n",
    "X = df_final[['Userid', 'Productid', 'year', 'month', 'day', 'weekday']]\n",
    "y = df_final['liked']"
   ]
  },
  {
   "cell_type": "code",
   "execution_count": 76,
   "metadata": {
    "id": "xonfPV_wUlUe"
   },
   "outputs": [
    {
     "name": "stdout",
     "output_type": "stream",
     "text": [
      "Shape of X_train: (52232, 6)\n",
      "Shape of X_test: (13058, 6)\n"
     ]
    }
   ],
   "source": [
    "# Split dataset into training and testing sets\n",
    "X_train, X_test, y_train, y_test = train_test_split(X, y, test_size=0.2, random_state=42)\n",
    "\n",
    "print(\"Shape of X_train:\", X_train.shape)\n",
    "print(\"Shape of X_test:\", X_test.shape)"
   ]
  },
  {
   "cell_type": "code",
   "execution_count": 77,
   "metadata": {
    "id": "8GovHaZfUlSw"
   },
   "outputs": [
    {
     "name": "stdout",
     "output_type": "stream",
     "text": [
      "[LightGBM] [Info] Number of positive: 48752, number of negative: 3480\n",
      "[LightGBM] [Info] Auto-choosing row-wise multi-threading, the overhead of testing was 0.001021 seconds.\n",
      "You can set `force_row_wise=true` to remove the overhead.\n",
      "And if memory is not enough, you can set `force_col_wise=true`.\n",
      "[LightGBM] [Info] Total Bins 578\n",
      "[LightGBM] [Info] Number of data points in the train set: 52232, number of used features: 6\n",
      "[LightGBM] [Info] [binary:BoostFromScore]: pavg=0.933374 -> initscore=2.639714\n",
      "[LightGBM] [Info] Start training from score 2.639714\n",
      "\n",
      " LightGBM Metrics:\n",
      "Accuracy: 0.93\n",
      "Precision: 0.93\n",
      "Recall: 1.0\n",
      "F1 Score: 0.96\n",
      "ROC AUC Score: 0.59\n"
     ]
    }
   ],
   "source": [
    "# Initialize LightGBM model\n",
    "lgbm_model = lgb.LGBMClassifier(random_state=42)\n",
    "\n",
    "# Train LightGBM model\n",
    "lgbm_model.fit(X_train, y_train)\n",
    "\n",
    "# Predict\n",
    "y_pred_lgbm = lgbm_model.predict(X_test)\n",
    "y_proba_lgbm = lgbm_model.predict_proba(X_test)[:,1]\n",
    "\n",
    "# Evaluate LightGBM\n",
    "print(\"\\n LightGBM Metrics:\")\n",
    "print(\"Accuracy:\", (round(accuracy_score(y_test, y_pred_lgbm),2)))\n",
    "print(\"Precision:\", (round(precision_score(y_test, y_pred_lgbm),2)))\n",
    "print(\"Recall:\", (round(recall_score(y_test, y_pred_lgbm),2)))\n",
    "print(\"F1 Score:\", (round(f1_score(y_test, y_pred_lgbm),2)))\n",
    "print(\"ROC AUC Score:\", (round(roc_auc_score(y_test, y_proba_lgbm),2)))\n"
   ]
  },
  {
   "cell_type": "code",
   "execution_count": 78,
   "metadata": {
    "id": "dTkTu3UMUlQl"
   },
   "outputs": [
    {
     "name": "stdout",
     "output_type": "stream",
     "text": [
      "\n",
      " XGBoost Metrics:\n",
      "Accuracy: 0.93\n",
      "Precision: 0.93\n",
      "Recall: 1.0\n",
      "F1 Score: 0.96\n",
      "ROC AUC Score: 0.6\n"
     ]
    }
   ],
   "source": [
    "# Initialize XGBoost model\n",
    "xgb_model = xgb.XGBClassifier(use_label_encoder=False, eval_metric='logloss', random_state=42)\n",
    "\n",
    "# Train XGBoost model\n",
    "xgb_model.fit(X_train, y_train)\n",
    "\n",
    "# Predict\n",
    "y_pred_xgb = xgb_model.predict(X_test)\n",
    "y_proba_xgb = xgb_model.predict_proba(X_test)[:,1]\n",
    "\n",
    "# Evaluate XGBoost\n",
    "print(\"\\n XGBoost Metrics:\")\n",
    "print(\"Accuracy:\", (round(accuracy_score(y_test, y_pred_xgb),2)))\n",
    "print(\"Precision:\", (round(precision_score(y_test, y_pred_xgb),2)))\n",
    "print(\"Recall:\", (round(recall_score(y_test, y_pred_xgb),2)))\n",
    "print(\"F1 Score:\", (round(f1_score(y_test, y_pred_xgb),2)))\n",
    "print(\"ROC AUC Score:\", (round(roc_auc_score(y_test, y_proba_xgb),2)))\n"
   ]
  },
  {
   "cell_type": "code",
   "execution_count": 79,
   "metadata": {},
   "outputs": [
    {
     "data": {
      "text/html": [
       "<div>\n",
       "<style scoped>\n",
       "    .dataframe tbody tr th:only-of-type {\n",
       "        vertical-align: middle;\n",
       "    }\n",
       "\n",
       "    .dataframe tbody tr th {\n",
       "        vertical-align: top;\n",
       "    }\n",
       "\n",
       "    .dataframe thead th {\n",
       "        text-align: right;\n",
       "    }\n",
       "</style>\n",
       "<table border=\"1\" class=\"dataframe\">\n",
       "  <thead>\n",
       "    <tr style=\"text-align: right;\">\n",
       "      <th></th>\n",
       "      <th>Userid</th>\n",
       "      <th>Productid</th>\n",
       "      <th>Rating</th>\n",
       "      <th>Timestamp</th>\n",
       "      <th>year</th>\n",
       "      <th>month</th>\n",
       "      <th>day</th>\n",
       "      <th>weekday</th>\n",
       "      <th>liked</th>\n",
       "    </tr>\n",
       "  </thead>\n",
       "  <tbody>\n",
       "    <tr>\n",
       "      <th>0</th>\n",
       "      <td>1050</td>\n",
       "      <td>0</td>\n",
       "      <td>5.0</td>\n",
       "      <td>2012-05-03</td>\n",
       "      <td>2012</td>\n",
       "      <td>5</td>\n",
       "      <td>3</td>\n",
       "      <td>3</td>\n",
       "      <td>1</td>\n",
       "    </tr>\n",
       "    <tr>\n",
       "      <th>1</th>\n",
       "      <td>125</td>\n",
       "      <td>0</td>\n",
       "      <td>1.0</td>\n",
       "      <td>2012-03-24</td>\n",
       "      <td>2012</td>\n",
       "      <td>3</td>\n",
       "      <td>24</td>\n",
       "      <td>5</td>\n",
       "      <td>0</td>\n",
       "    </tr>\n",
       "    <tr>\n",
       "      <th>2</th>\n",
       "      <td>785</td>\n",
       "      <td>0</td>\n",
       "      <td>3.0</td>\n",
       "      <td>2013-06-20</td>\n",
       "      <td>2013</td>\n",
       "      <td>6</td>\n",
       "      <td>20</td>\n",
       "      <td>3</td>\n",
       "      <td>1</td>\n",
       "    </tr>\n",
       "    <tr>\n",
       "      <th>3</th>\n",
       "      <td>1495</td>\n",
       "      <td>0</td>\n",
       "      <td>5.0</td>\n",
       "      <td>2012-06-16</td>\n",
       "      <td>2012</td>\n",
       "      <td>6</td>\n",
       "      <td>16</td>\n",
       "      <td>5</td>\n",
       "      <td>1</td>\n",
       "    </tr>\n",
       "    <tr>\n",
       "      <th>4</th>\n",
       "      <td>164</td>\n",
       "      <td>0</td>\n",
       "      <td>1.0</td>\n",
       "      <td>2012-10-13</td>\n",
       "      <td>2012</td>\n",
       "      <td>10</td>\n",
       "      <td>13</td>\n",
       "      <td>5</td>\n",
       "      <td>0</td>\n",
       "    </tr>\n",
       "  </tbody>\n",
       "</table>\n",
       "</div>"
      ],
      "text/plain": [
       "   Userid  Productid  Rating  Timestamp  year  month  day  weekday  liked\n",
       "0    1050          0     5.0 2012-05-03  2012      5    3        3      1\n",
       "1     125          0     1.0 2012-03-24  2012      3   24        5      0\n",
       "2     785          0     3.0 2013-06-20  2013      6   20        3      1\n",
       "3    1495          0     5.0 2012-06-16  2012      6   16        5      1\n",
       "4     164          0     1.0 2012-10-13  2012     10   13        5      0"
      ]
     },
     "execution_count": 79,
     "metadata": {},
     "output_type": "execute_result"
    }
   ],
   "source": [
    "df_final.head()"
   ]
  },
  {
   "cell_type": "code",
   "execution_count": null,
   "metadata": {},
   "outputs": [],
   "source": []
  },
  {
   "cell_type": "code",
   "execution_count": 80,
   "metadata": {},
   "outputs": [
    {
     "name": "stdout",
     "output_type": "stream",
     "text": [
      "       Productid  PredictedRating\n",
      "0     1400501466                1\n",
      "3822  B006K55662                1\n",
      "3798  B006FNCWSY                1\n",
      "3797  B006FLENJC                1\n",
      "3796  B006EWUO22                1\n",
      "3795  B006EKIQYM                1\n",
      "3794  B006DY3CRK                1\n",
      "3793  B006DY3C5W                1\n",
      "3792  B006DUDWXI                1\n",
      "3791  B006DLP7BM                1\n"
     ]
    }
   ],
   "source": [
    "# EXAMPLE RECCOMENDATIONS (lgb)\n",
    "\n",
    "import pandas as pd\n",
    "import lightgbm as lgb\n",
    "\n",
    "interaction_data = pd.read_csv('df_final.csv') \n",
    "\n",
    "# Create user-product pairs for prediction\n",
    "user_id = 'A3LDPF5FMB782Z' \n",
    "\n",
    "# Prepare product features \n",
    "unique_products = interaction_data['Productid'].unique()\n",
    "\n",
    "# Create user-product pair DataFrame for prediction\n",
    "user_product_pairs = pd.DataFrame({'Productid': unique_products})\n",
    "user_product_pairs['Userid'] = user_id\n",
    "user_product_pairs['Timestamp'] = '2024-01-01'  # Dummy timestamp if needed\n",
    "\n",
    "# Encode Userid and Productid same as model training\n",
    "from sklearn.preprocessing import LabelEncoder\n",
    "\n",
    "# Reload encoders or fit new ones based on training data\n",
    "le_user = LabelEncoder()\n",
    "le_product = LabelEncoder()\n",
    "\n",
    "# Fit encoders on full dataset\n",
    "le_user.fit(interaction_data['Userid'])\n",
    "le_product.fit(interaction_data['Productid'])\n",
    "\n",
    "user_product_pairs['Userid_enc'] = le_user.transform(user_product_pairs['Userid'])\n",
    "user_product_pairs['Productid_enc'] = le_product.transform(user_product_pairs['Productid'])\n",
    "\n",
    "# Prepare feature matrix\n",
    "X_new = user_product_pairs[['Userid_enc', 'Productid_enc']]\n",
    "X_new['year'] = pd.to_datetime(user_product_pairs['Timestamp']).dt.year\n",
    "X_new['month'] = pd.to_datetime(user_product_pairs['Timestamp']).dt.month\n",
    "X_new['day'] = pd.to_datetime(user_product_pairs['Timestamp']).dt.day\n",
    "X_new['weekday'] = pd.to_datetime(user_product_pairs['Timestamp']).dt.weekday\n",
    "\n",
    "# Predict ratings for each product\n",
    "y_pred = lgbm_model.predict(X_new)\n",
    "\n",
    "# Add predictions to the DataFrame\n",
    "user_product_pairs['PredictedRating'] = y_pred\n",
    "\n",
    "# Sort products by predicted rating\n",
    "user_product_pairs_sorted = user_product_pairs.sort_values(by='PredictedRating', ascending=False)\n",
    "\n",
    "# Recommend top N products\n",
    "top_n_recommended_products = user_product_pairs_sorted[['Productid', 'PredictedRating']].head(10)\n",
    "\n",
    "print(top_n_recommended_products)\n"
   ]
  },
  {
   "cell_type": "code",
   "execution_count": 81,
   "metadata": {},
   "outputs": [
    {
     "name": "stdout",
     "output_type": "stream",
     "text": [
      "       Productid  PredictedRating\n",
      "0     1400501466                1\n",
      "3822  B006K55662                1\n",
      "3798  B006FNCWSY                1\n",
      "3797  B006FLENJC                1\n",
      "3796  B006EWUO22                1\n",
      "3795  B006EKIQYM                1\n",
      "3794  B006DY3CRK                1\n",
      "3793  B006DY3C5W                1\n",
      "3792  B006DUDWXI                1\n",
      "3791  B006DLP7BM                1\n"
     ]
    }
   ],
   "source": [
    "# EXAMPLE RECCOMENDATIONS (xgb)\n",
    "\n",
    "import pandas as pd\n",
    "import xgboost as xgb\n",
    "\n",
    "# Load your interaction data\n",
    "interaction_data = pd.read_csv('df_final.csv')  \n",
    "\n",
    "#  Create user-product pairs for prediction\n",
    "\n",
    "user_id = 'A3LDPF5FMB782Z' \n",
    "\n",
    "#  Prepare product features\n",
    "unique_products = interaction_data['Productid'].unique()\n",
    "\n",
    "# Create user-product pair DataFrame for prediction\n",
    "user_product_pairs = pd.DataFrame({'Productid': unique_products})\n",
    "user_product_pairs['Userid'] = user_id\n",
    "user_product_pairs['Timestamp'] = '2024-01-01'  # Dummy timestamp if needed\n",
    "\n",
    "# Encode Userid and Productid same as model training\n",
    "from sklearn.preprocessing import LabelEncoder\n",
    "\n",
    "# Reload encoders or fit new ones based on training data\n",
    "le_user = LabelEncoder()\n",
    "le_product = LabelEncoder()\n",
    "\n",
    "# Fit encoders on full dataset \n",
    "le_user.fit(interaction_data['Userid'])\n",
    "le_product.fit(interaction_data['Productid'])\n",
    "\n",
    "user_product_pairs['Userid_enc'] = le_user.transform(user_product_pairs['Userid'])\n",
    "user_product_pairs['Productid_enc'] = le_product.transform(user_product_pairs['Productid'])\n",
    "\n",
    "# Prepare feature matrix\n",
    "X_new = user_product_pairs[['Userid_enc', 'Productid_enc']]\n",
    "X_new['year'] = pd.to_datetime(user_product_pairs['Timestamp']).dt.year\n",
    "X_new['month'] = pd.to_datetime(user_product_pairs['Timestamp']).dt.month\n",
    "X_new['day'] = pd.to_datetime(user_product_pairs['Timestamp']).dt.day\n",
    "X_new['weekday'] = pd.to_datetime(user_product_pairs['Timestamp']).dt.weekday\n",
    "\n",
    "# Rename columns to match training data\n",
    "X_new = X_new.rename(columns={'Userid_enc': 'Userid', 'Productid_enc': 'Productid'})\n",
    "\n",
    "# Reorder columns to match training data\n",
    "X_new = X_new[['Userid', 'Productid', 'year', 'month', 'day', 'weekday']]\n",
    "\n",
    "# Predict ratings for each product\n",
    "y_pred = xgb_model.predict(X_new)\n",
    "\n",
    "# Add predictions to the DataFrame\n",
    "user_product_pairs['PredictedRating'] = y_pred\n",
    "\n",
    "# Sort products by predicted rating\n",
    "user_product_pairs_sorted = user_product_pairs.sort_values(by='PredictedRating', ascending=False)\n",
    "\n",
    "#  Recommend top N products\n",
    "top_n_recommended_products = user_product_pairs_sorted[['Productid', 'PredictedRating']].head(10)\n",
    "\n",
    "print(top_n_recommended_products)\n"
   ]
  },
  {
   "cell_type": "code",
   "execution_count": null,
   "metadata": {
    "id": "0Wj55XvlUlBn"
   },
   "outputs": [],
   "source": []
  }
 ],
 "metadata": {
  "colab": {
   "provenance": []
  },
  "kernelspec": {
   "display_name": "Python 3 (ipykernel)",
   "language": "python",
   "name": "python3"
  },
  "language_info": {
   "codemirror_mode": {
    "name": "ipython",
    "version": 3
   },
   "file_extension": ".py",
   "mimetype": "text/x-python",
   "name": "python",
   "nbconvert_exporter": "python",
   "pygments_lexer": "ipython3",
   "version": "3.12.7"
  }
 },
 "nbformat": 4,
 "nbformat_minor": 4
}
